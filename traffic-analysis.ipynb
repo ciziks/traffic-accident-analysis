{
 "cells": [
  {
   "cell_type": "markdown",
   "metadata": {},
   "source": [
    "# Análise dos Acidentes de Trânsito e suas Condições Metereológicas\n",
    "\n",
    "## Projeto da disciplina **SSC0957 - Práticas em Ciência de Dados II**\n",
    "\n",
    "* Alexandre Eduardo de Souza Jesus - alexandre_souza@usp.br - 12559506\n",
    "\n",
    "* Gustavo Silva de Oliveira - guspfc03@usp.br - 12567231\n",
    "\n",
    "* Lucas Ivars Cadima Ciziks - luciziks@usp.br - 125599472\n",
    "\n",
    "---"
   ]
  },
  {
   "cell_type": "markdown",
   "metadata": {},
   "source": [
    "## 1. Introdução"
   ]
  },
  {
   "cell_type": "markdown",
   "metadata": {},
   "source": [
    "## 2. Metodologia"
   ]
  },
  {
   "cell_type": "markdown",
   "metadata": {},
   "source": [
    "## 3. Compreensão dos Dados"
   ]
  },
  {
   "cell_type": "markdown",
   "metadata": {},
   "source": [
    "### 3.1. Coleta de Dados"
   ]
  },
  {
   "cell_type": "markdown",
   "metadata": {},
   "source": [
    "O conjunto de dados utilizado para a análise do problema foi coletado no site do Governo Federal, disponível em [Acidentes](https://www.gov.br/prf/pt-br/acesso-a-informacao/dados-abertos/dados-abertos-acidentes). Os dados foram coletados e registrados pela Polícia Rodoviária Federal, agrupado por ocorrências de 2007 até fevereiro de 2023."
   ]
  },
  {
   "cell_type": "markdown",
   "metadata": {},
   "source": [
    "### 3.2. Dicionário de Dados\n",
    "\n",
    "* **data_inversa**: Data da ocorrência no formato *mm/dd/aaaa*;\n",
    "\n",
    "* **dia_semana**: Dia da semana da ocorrência;\n",
    "\n",
    "* **horario**: Horário da ocorrência no formato *hh:mm:ss*;\n",
    "\n",
    "* **uf**: Unidade da federação;\n",
    "\n",
    "* **municipio**: Nome do município de ocorrência do acidente;\n",
    "\n",
    "* **causa_acidente**: Identificação da causa principal do acidente;\n",
    "\n",
    "* **tipo_acidente**: Identificação do tipo de acidente;\n",
    "\n",
    "* **classificação_acidente**: Classificação quanto à gravidade do acidente;\n",
    "\n",
    "* **sentido_via**: Sentido da via considerando o ponto de colisão;\n",
    "\n",
    "* **condição_metereologica**: Condição metereológica no momento do acidente;\n",
    "\n",
    "* **tipo_pista**: Tipo da pista considerando a quantidade de faixas;\n",
    "\n",
    "* **tracado_via**: Descrição do traçado da via;\n",
    "\n",
    "* **uso_solo**: Descrição sobre as características do local do acidente (Urbano = \"Sim\", Rural = \"Não\");\n",
    "\n",
    "* **latitude**: Latitude do local do acidente em formato geodésico decimal;\n",
    "\n",
    "* **longitude**: Longitude do local do acidente em formato geodésico decimal;\n",
    "\n",
    "* **pessoas**: Total de pessoas envolvidas na ocorrência;\n",
    "\n",
    "* **mortos**: Total de pessoas mortas envolvidas na ocorrência;\n",
    "\n",
    "* **feridos_leves**: Total de pessoas com ferimentos leves envolvidas na ocorrência;\n",
    "\n",
    "* **feridos**: Total de pessoas feridas envolvidas na ocorrência;\n",
    "\n",
    "* **ilesos**: Total de pessoas ilesas envolvidas na ocorrência;\n",
    "\n",
    "* **ignorados**: Total de pessoas envolvidas na ocorrência e que não se soube o estado físico;\n",
    "\n",
    "* **veiculos**: Total de veículos envolvidos na ocorrência;"
   ]
  },
  {
   "cell_type": "markdown",
   "metadata": {},
   "source": [
    "### 3.3. Tipo das Variáveis"
   ]
  },
  {
   "cell_type": "markdown",
   "metadata": {},
   "source": [
    "## 4. Tratamento dos Dados"
   ]
  },
  {
   "cell_type": "code",
   "execution_count": 51,
   "metadata": {
    "id": "0zAkCu4QLuQ8"
   },
   "outputs": [],
   "source": [
    "# Importando Bibliotecas\n",
    "import pandas as pd\n",
    "import numpy as np\n",
    "import matplotlib.pyplot as plt\n",
    "import geopandas as gpd\n",
    "\n",
    "pd.set_option('mode.chained_assignment', None)"
   ]
  },
  {
   "cell_type": "code",
   "execution_count": 52,
   "metadata": {
    "id": "EfilxuhxL3qz"
   },
   "outputs": [
    {
     "data": {
      "text/plain": [
       "array(['Ingestão de álcool pelo condutor',\n",
       "       'Condutor deixou de manter distância do veículo da frente',\n",
       "       'Reação tardia ou ineficiente do condutor',\n",
       "       'Acumulo de água sobre o pavimento', 'Mal súbito do condutor',\n",
       "       'Chuva', 'Ausência de reação do condutor',\n",
       "       'Manobra de mudança de faixa', 'Pista Escorregadia',\n",
       "       'Ausência de sinalização', 'Condutor Dormindo',\n",
       "       'Velocidade Incompatível',\n",
       "       'Acessar a via sem observar a presença dos outros veículos',\n",
       "       'Conversão proibida', 'Transitar na contramão',\n",
       "       'Ultrapassagem Indevida',\n",
       "       'Desrespeitar a preferência no cruzamento',\n",
       "       'Acostamento em desnível', 'Demais falhas mecânicas ou elétricas',\n",
       "       'Carga excessiva e/ou mal acondicionada', 'Problema com o freio',\n",
       "       'Ingestão de álcool e/ou substâncias psicoativas pelo pedestre',\n",
       "       'Curva acentuada', 'Estacionar ou parar em local proibido',\n",
       "       'Avarias e/ou desgaste excessivo no pneu',\n",
       "       'Pedestre cruzava a pista fora da faixa', 'Obstrução na via',\n",
       "       'Acesso irregular', 'Pista esburacada', 'Animais na Pista',\n",
       "       'Falta de acostamento', 'Entrada inopinada do pedestre',\n",
       "       'Acumulo de areia ou detritos sobre o pavimento',\n",
       "       'Pedestre andava na pista', 'Desvio temporário',\n",
       "       'Transitar no acostamento', 'Problema na suspensão',\n",
       "       'Objeto estático sobre o leito carroçável',\n",
       "       'Deficiência do Sistema de Iluminação/Sinalização',\n",
       "       'Trafegar com motocicleta (ou similar) entre as faixas',\n",
       "       'Condutor usando celular',\n",
       "       'Restrição de visibilidade em curvas horizontais',\n",
       "       'Ingestão de álcool ou de substâncias psicoativas pelo pedestre',\n",
       "       'Declive acentuado', 'Frear bruscamente', 'Iluminação deficiente',\n",
       "       'Área urbana sem a presença de local apropriado para a travessia de pedestres',\n",
       "       'Demais Fenômenos da natureza', 'Demais falhas na via',\n",
       "       'Faixas de trânsito com largura insuficiente', 'Obras na pista',\n",
       "       'Retorno proibido', 'Afundamento ou ondulação no pavimento',\n",
       "       'Falta de elemento de contenção que evite a saída do leito carroçável',\n",
       "       'Ingestão de substâncias psicoativas pelo condutor', 'Neblina',\n",
       "       'Condutor desrespeitou a iluminação vermelha do semáforo',\n",
       "       'Sistema de drenagem ineficiente',\n",
       "       'Acumulo de óleo sobre o pavimento', 'Sinalização mal posicionada',\n",
       "       'Pista em desnível', 'Transitar na calçada', 'Fumaça',\n",
       "       'Redutor de velocidade em desacordo',\n",
       "       'Deixar de acionar o farol da motocicleta (ou similar)',\n",
       "       'Restrição de visibilidade em curvas verticais',\n",
       "       'Semáforo com defeito', 'Faróis desregulados',\n",
       "       'Modificação proibida', 'Participar de racha',\n",
       "       'Sinalização encoberta'], dtype=object)"
      ]
     },
     "execution_count": 52,
     "metadata": {},
     "output_type": "execute_result"
    }
   ],
   "source": [
    "# Leitura dos dados de 2022\n",
    "datatran_df = pd.read_csv(\"data/datatran_2022.csv\")\n",
    "datatran_df.head()\n",
    "datatran_df['causa_acidente'].unique()"
   ]
  },
  {
   "cell_type": "code",
   "execution_count": 53,
   "metadata": {},
   "outputs": [],
   "source": [
    "# Dropando colunas desinteressantes à análise\n",
    "datatran_df.drop(columns = ['uop','delegacia','regional','br', 'km', 'id'], inplace = True)"
   ]
  },
  {
   "cell_type": "code",
   "execution_count": 54,
   "metadata": {},
   "outputs": [
    {
     "data": {
      "text/html": [
       "<div>\n",
       "<style scoped>\n",
       "    .dataframe tbody tr th:only-of-type {\n",
       "        vertical-align: middle;\n",
       "    }\n",
       "\n",
       "    .dataframe tbody tr th {\n",
       "        vertical-align: top;\n",
       "    }\n",
       "\n",
       "    .dataframe thead th {\n",
       "        text-align: right;\n",
       "    }\n",
       "</style>\n",
       "<table border=\"1\" class=\"dataframe\">\n",
       "  <thead>\n",
       "    <tr style=\"text-align: right;\">\n",
       "      <th></th>\n",
       "      <th>data_inversa</th>\n",
       "      <th>dia_semana</th>\n",
       "      <th>horario</th>\n",
       "      <th>uf</th>\n",
       "      <th>municipio</th>\n",
       "      <th>causa_acidente</th>\n",
       "      <th>tipo_acidente</th>\n",
       "      <th>classificacao_acidente</th>\n",
       "      <th>fase_dia</th>\n",
       "      <th>sentido_via</th>\n",
       "      <th>...</th>\n",
       "      <th>pessoas</th>\n",
       "      <th>mortos</th>\n",
       "      <th>feridos_leves</th>\n",
       "      <th>feridos_graves</th>\n",
       "      <th>ilesos</th>\n",
       "      <th>ignorados</th>\n",
       "      <th>feridos</th>\n",
       "      <th>veiculos</th>\n",
       "      <th>latitude</th>\n",
       "      <th>longitude</th>\n",
       "    </tr>\n",
       "  </thead>\n",
       "  <tbody>\n",
       "  </tbody>\n",
       "</table>\n",
       "<p>0 rows × 24 columns</p>\n",
       "</div>"
      ],
      "text/plain": [
       "Empty DataFrame\n",
       "Columns: [data_inversa, dia_semana, horario, uf, municipio, causa_acidente, tipo_acidente, classificacao_acidente, fase_dia, sentido_via, condicao_metereologica, tipo_pista, tracado_via, uso_solo, pessoas, mortos, feridos_leves, feridos_graves, ilesos, ignorados, feridos, veiculos, latitude, longitude]\n",
       "Index: []\n",
       "\n",
       "[0 rows x 24 columns]"
      ]
     },
     "execution_count": 54,
     "metadata": {},
     "output_type": "execute_result"
    }
   ],
   "source": [
    "# Nenhuma ocorrência com valor NaN\n",
    "datatran_df[datatran_df.isna().any(axis=1)]"
   ]
  },
  {
   "cell_type": "code",
   "execution_count": 55,
   "metadata": {
    "colab": {
     "base_uri": "https://localhost:8080/"
    },
    "id": "okSxPwHoOhhI",
    "outputId": "19f2ddf2-0e95-4fd0-b3aa-39486229e1d1"
   },
   "outputs": [
    {
     "data": {
      "text/plain": [
       "64547"
      ]
     },
     "execution_count": 55,
     "metadata": {},
     "output_type": "execute_result"
    }
   ],
   "source": [
    "# Quantidade de ocorrências registradas em 2022\n",
    "len(datatran_df)"
   ]
  },
  {
   "cell_type": "markdown",
   "metadata": {},
   "source": [
    "## 5. Análise Exploratória dos Dados"
   ]
  },
  {
   "cell_type": "code",
   "execution_count": 56,
   "metadata": {},
   "outputs": [
    {
     "data": {
      "text/html": [
       "<div>\n",
       "<style scoped>\n",
       "    .dataframe tbody tr th:only-of-type {\n",
       "        vertical-align: middle;\n",
       "    }\n",
       "\n",
       "    .dataframe tbody tr th {\n",
       "        vertical-align: top;\n",
       "    }\n",
       "\n",
       "    .dataframe thead th {\n",
       "        text-align: right;\n",
       "    }\n",
       "</style>\n",
       "<table border=\"1\" class=\"dataframe\">\n",
       "  <thead>\n",
       "    <tr style=\"text-align: right;\">\n",
       "      <th></th>\n",
       "      <th>data_inversa</th>\n",
       "      <th>dia_semana</th>\n",
       "      <th>horario</th>\n",
       "      <th>uf</th>\n",
       "      <th>municipio</th>\n",
       "      <th>causa_acidente</th>\n",
       "      <th>tipo_acidente</th>\n",
       "      <th>classificacao_acidente</th>\n",
       "      <th>fase_dia</th>\n",
       "      <th>sentido_via</th>\n",
       "      <th>...</th>\n",
       "      <th>pessoas</th>\n",
       "      <th>mortos</th>\n",
       "      <th>feridos_leves</th>\n",
       "      <th>feridos_graves</th>\n",
       "      <th>ilesos</th>\n",
       "      <th>ignorados</th>\n",
       "      <th>feridos</th>\n",
       "      <th>veiculos</th>\n",
       "      <th>latitude</th>\n",
       "      <th>longitude</th>\n",
       "    </tr>\n",
       "  </thead>\n",
       "  <tbody>\n",
       "    <tr>\n",
       "      <th>6</th>\n",
       "      <td>1/1/2022</td>\n",
       "      <td>sábado</td>\n",
       "      <td>10:20:00</td>\n",
       "      <td>MG</td>\n",
       "      <td>CAETANOPOLIS</td>\n",
       "      <td>Chuva</td>\n",
       "      <td>Colisão lateral mesmo sentido</td>\n",
       "      <td>Com Vítimas Feridas</td>\n",
       "      <td>Pleno dia</td>\n",
       "      <td>Crescente</td>\n",
       "      <td>...</td>\n",
       "      <td>3</td>\n",
       "      <td>0</td>\n",
       "      <td>1</td>\n",
       "      <td>0</td>\n",
       "      <td>2</td>\n",
       "      <td>0</td>\n",
       "      <td>1</td>\n",
       "      <td>2</td>\n",
       "      <td>-19.333821</td>\n",
       "      <td>-44.361079</td>\n",
       "    </tr>\n",
       "    <tr>\n",
       "      <th>29</th>\n",
       "      <td>1/2/2022</td>\n",
       "      <td>domingo</td>\n",
       "      <td>16:00:00</td>\n",
       "      <td>DF</td>\n",
       "      <td>BRASILIA</td>\n",
       "      <td>Chuva</td>\n",
       "      <td>Colisão traseira</td>\n",
       "      <td>Com Vítimas Feridas</td>\n",
       "      <td>Pleno dia</td>\n",
       "      <td>Decrescente</td>\n",
       "      <td>...</td>\n",
       "      <td>3</td>\n",
       "      <td>0</td>\n",
       "      <td>1</td>\n",
       "      <td>0</td>\n",
       "      <td>2</td>\n",
       "      <td>0</td>\n",
       "      <td>1</td>\n",
       "      <td>2</td>\n",
       "      <td>-15.943619</td>\n",
       "      <td>-48.172115</td>\n",
       "    </tr>\n",
       "    <tr>\n",
       "      <th>72</th>\n",
       "      <td>1/3/2022</td>\n",
       "      <td>segunda-feira</td>\n",
       "      <td>21:15:00</td>\n",
       "      <td>MG</td>\n",
       "      <td>SANTANA DO PARAISO</td>\n",
       "      <td>Chuva</td>\n",
       "      <td>Colisão frontal</td>\n",
       "      <td>Com Vítimas Feridas</td>\n",
       "      <td>Plena Noite</td>\n",
       "      <td>Crescente</td>\n",
       "      <td>...</td>\n",
       "      <td>3</td>\n",
       "      <td>0</td>\n",
       "      <td>2</td>\n",
       "      <td>0</td>\n",
       "      <td>1</td>\n",
       "      <td>0</td>\n",
       "      <td>2</td>\n",
       "      <td>2</td>\n",
       "      <td>-19.388008</td>\n",
       "      <td>-42.476167</td>\n",
       "    </tr>\n",
       "    <tr>\n",
       "      <th>175</th>\n",
       "      <td>1/6/2022</td>\n",
       "      <td>quinta-feira</td>\n",
       "      <td>15:05:00</td>\n",
       "      <td>ES</td>\n",
       "      <td>DOMINGOS MARTINS</td>\n",
       "      <td>Chuva</td>\n",
       "      <td>Colisão frontal</td>\n",
       "      <td>Com Vítimas Feridas</td>\n",
       "      <td>Pleno dia</td>\n",
       "      <td>Decrescente</td>\n",
       "      <td>...</td>\n",
       "      <td>5</td>\n",
       "      <td>0</td>\n",
       "      <td>0</td>\n",
       "      <td>4</td>\n",
       "      <td>1</td>\n",
       "      <td>0</td>\n",
       "      <td>4</td>\n",
       "      <td>2</td>\n",
       "      <td>-20.380268</td>\n",
       "      <td>-40.630009</td>\n",
       "    </tr>\n",
       "    <tr>\n",
       "      <th>183</th>\n",
       "      <td>1/6/2022</td>\n",
       "      <td>quinta-feira</td>\n",
       "      <td>17:50:00</td>\n",
       "      <td>GO</td>\n",
       "      <td>TEREZOPOLIS DE GOIAS</td>\n",
       "      <td>Chuva</td>\n",
       "      <td>Saída de leito carroçável</td>\n",
       "      <td>Com Vítimas Feridas</td>\n",
       "      <td>Pleno dia</td>\n",
       "      <td>Crescente</td>\n",
       "      <td>...</td>\n",
       "      <td>3</td>\n",
       "      <td>0</td>\n",
       "      <td>1</td>\n",
       "      <td>0</td>\n",
       "      <td>2</td>\n",
       "      <td>0</td>\n",
       "      <td>1</td>\n",
       "      <td>1</td>\n",
       "      <td>-16.478900</td>\n",
       "      <td>-49.086400</td>\n",
       "    </tr>\n",
       "  </tbody>\n",
       "</table>\n",
       "<p>5 rows × 24 columns</p>\n",
       "</div>"
      ],
      "text/plain": [
       "    data_inversa     dia_semana   horario  uf             municipio  \\\n",
       "6       1/1/2022         sábado  10:20:00  MG          CAETANOPOLIS   \n",
       "29      1/2/2022        domingo  16:00:00  DF              BRASILIA   \n",
       "72      1/3/2022  segunda-feira  21:15:00  MG    SANTANA DO PARAISO   \n",
       "175     1/6/2022   quinta-feira  15:05:00  ES      DOMINGOS MARTINS   \n",
       "183     1/6/2022   quinta-feira  17:50:00  GO  TEREZOPOLIS DE GOIAS   \n",
       "\n",
       "    causa_acidente                  tipo_acidente classificacao_acidente  \\\n",
       "6            Chuva  Colisão lateral mesmo sentido    Com Vítimas Feridas   \n",
       "29           Chuva               Colisão traseira    Com Vítimas Feridas   \n",
       "72           Chuva                Colisão frontal    Com Vítimas Feridas   \n",
       "175          Chuva                Colisão frontal    Com Vítimas Feridas   \n",
       "183          Chuva      Saída de leito carroçável    Com Vítimas Feridas   \n",
       "\n",
       "        fase_dia  sentido_via  ... pessoas mortos feridos_leves  \\\n",
       "6      Pleno dia    Crescente  ...       3      0             1   \n",
       "29     Pleno dia  Decrescente  ...       3      0             1   \n",
       "72   Plena Noite    Crescente  ...       3      0             2   \n",
       "175    Pleno dia  Decrescente  ...       5      0             0   \n",
       "183    Pleno dia    Crescente  ...       3      0             1   \n",
       "\n",
       "    feridos_graves  ilesos  ignorados  feridos  veiculos   latitude  longitude  \n",
       "6                0       2          0        1         2 -19.333821 -44.361079  \n",
       "29               0       2          0        1         2 -15.943619 -48.172115  \n",
       "72               0       1          0        2         2 -19.388008 -42.476167  \n",
       "175              4       1          0        4         2 -20.380268 -40.630009  \n",
       "183              0       2          0        1         1 -16.478900 -49.086400  \n",
       "\n",
       "[5 rows x 24 columns]"
      ]
     },
     "execution_count": 56,
     "metadata": {},
     "output_type": "execute_result"
    }
   ],
   "source": [
    "# Coletando Acidentes que possuem como causa principal a Chuva\n",
    "df_chuva = datatran_df[datatran_df['causa_acidente'] == 'Chuva']\n",
    "df_chuva.head()"
   ]
  },
  {
   "cell_type": "code",
   "execution_count": 57,
   "metadata": {},
   "outputs": [
    {
     "name": "stderr",
     "output_type": "stream",
     "text": [
      "/tmp/ipykernel_813/3552681247.py:6: FutureWarning: The frame.append method is deprecated and will be removed from pandas in a future version. Use pandas.concat instead.\n",
      "  dados_grafico = dados_grafico.append(aux, ignore_index = True)\n"
     ]
    }
   ],
   "source": [
    "dados_grafico = pd.DataFrame({'Estado' : df_chuva['uf'].unique(),\n",
    "                             'Acidentes' : df_chuva['uf'].value_counts().tolist()})\n",
    "\n",
    "aux = {'Estado' : 'AM', 'Acidentes' : 0}\n",
    "\n",
    "dados_grafico = dados_grafico.append(aux, ignore_index = True)\n",
    "                     \n",
    "dados_grafico = dados_grafico.sort_values(by='Estado')"
   ]
  },
  {
   "cell_type": "code",
   "execution_count": 58,
   "metadata": {},
   "outputs": [
    {
     "data": {
      "text/html": [
       "<div>\n",
       "<style scoped>\n",
       "    .dataframe tbody tr th:only-of-type {\n",
       "        vertical-align: middle;\n",
       "    }\n",
       "\n",
       "    .dataframe tbody tr th {\n",
       "        vertical-align: top;\n",
       "    }\n",
       "\n",
       "    .dataframe thead th {\n",
       "        text-align: right;\n",
       "    }\n",
       "</style>\n",
       "<table border=\"1\" class=\"dataframe\">\n",
       "  <thead>\n",
       "    <tr style=\"text-align: right;\">\n",
       "      <th></th>\n",
       "      <th>Estado</th>\n",
       "      <th>Acidentes</th>\n",
       "    </tr>\n",
       "  </thead>\n",
       "  <tbody>\n",
       "    <tr>\n",
       "      <th>25</th>\n",
       "      <td>AC</td>\n",
       "      <td>1</td>\n",
       "    </tr>\n",
       "    <tr>\n",
       "      <th>14</th>\n",
       "      <td>AL</td>\n",
       "      <td>14</td>\n",
       "    </tr>\n",
       "    <tr>\n",
       "      <th>26</th>\n",
       "      <td>AM</td>\n",
       "      <td>0</td>\n",
       "    </tr>\n",
       "    <tr>\n",
       "      <th>24</th>\n",
       "      <td>AP</td>\n",
       "      <td>2</td>\n",
       "    </tr>\n",
       "    <tr>\n",
       "      <th>12</th>\n",
       "      <td>BA</td>\n",
       "      <td>18</td>\n",
       "    </tr>\n",
       "    <tr>\n",
       "      <th>21</th>\n",
       "      <td>CE</td>\n",
       "      <td>5</td>\n",
       "    </tr>\n",
       "    <tr>\n",
       "      <th>1</th>\n",
       "      <td>DF</td>\n",
       "      <td>157</td>\n",
       "    </tr>\n",
       "    <tr>\n",
       "      <th>2</th>\n",
       "      <td>ES</td>\n",
       "      <td>131</td>\n",
       "    </tr>\n",
       "    <tr>\n",
       "      <th>3</th>\n",
       "      <td>GO</td>\n",
       "      <td>101</td>\n",
       "    </tr>\n",
       "    <tr>\n",
       "      <th>15</th>\n",
       "      <td>MA</td>\n",
       "      <td>13</td>\n",
       "    </tr>\n",
       "    <tr>\n",
       "      <th>0</th>\n",
       "      <td>MG</td>\n",
       "      <td>222</td>\n",
       "    </tr>\n",
       "    <tr>\n",
       "      <th>18</th>\n",
       "      <td>MS</td>\n",
       "      <td>11</td>\n",
       "    </tr>\n",
       "    <tr>\n",
       "      <th>5</th>\n",
       "      <td>MT</td>\n",
       "      <td>68</td>\n",
       "    </tr>\n",
       "    <tr>\n",
       "      <th>13</th>\n",
       "      <td>PA</td>\n",
       "      <td>14</td>\n",
       "    </tr>\n",
       "    <tr>\n",
       "      <th>7</th>\n",
       "      <td>PB</td>\n",
       "      <td>55</td>\n",
       "    </tr>\n",
       "    <tr>\n",
       "      <th>16</th>\n",
       "      <td>PE</td>\n",
       "      <td>12</td>\n",
       "    </tr>\n",
       "    <tr>\n",
       "      <th>23</th>\n",
       "      <td>PI</td>\n",
       "      <td>2</td>\n",
       "    </tr>\n",
       "    <tr>\n",
       "      <th>6</th>\n",
       "      <td>PR</td>\n",
       "      <td>56</td>\n",
       "    </tr>\n",
       "    <tr>\n",
       "      <th>4</th>\n",
       "      <td>RJ</td>\n",
       "      <td>94</td>\n",
       "    </tr>\n",
       "    <tr>\n",
       "      <th>17</th>\n",
       "      <td>RN</td>\n",
       "      <td>11</td>\n",
       "    </tr>\n",
       "    <tr>\n",
       "      <th>20</th>\n",
       "      <td>RO</td>\n",
       "      <td>7</td>\n",
       "    </tr>\n",
       "    <tr>\n",
       "      <th>22</th>\n",
       "      <td>RR</td>\n",
       "      <td>4</td>\n",
       "    </tr>\n",
       "    <tr>\n",
       "      <th>9</th>\n",
       "      <td>RS</td>\n",
       "      <td>35</td>\n",
       "    </tr>\n",
       "    <tr>\n",
       "      <th>11</th>\n",
       "      <td>SC</td>\n",
       "      <td>24</td>\n",
       "    </tr>\n",
       "    <tr>\n",
       "      <th>19</th>\n",
       "      <td>SE</td>\n",
       "      <td>10</td>\n",
       "    </tr>\n",
       "    <tr>\n",
       "      <th>8</th>\n",
       "      <td>SP</td>\n",
       "      <td>43</td>\n",
       "    </tr>\n",
       "    <tr>\n",
       "      <th>10</th>\n",
       "      <td>TO</td>\n",
       "      <td>25</td>\n",
       "    </tr>\n",
       "  </tbody>\n",
       "</table>\n",
       "</div>"
      ],
      "text/plain": [
       "   Estado  Acidentes\n",
       "25     AC          1\n",
       "14     AL         14\n",
       "26     AM          0\n",
       "24     AP          2\n",
       "12     BA         18\n",
       "21     CE          5\n",
       "1      DF        157\n",
       "2      ES        131\n",
       "3      GO        101\n",
       "15     MA         13\n",
       "0      MG        222\n",
       "18     MS         11\n",
       "5      MT         68\n",
       "13     PA         14\n",
       "7      PB         55\n",
       "16     PE         12\n",
       "23     PI          2\n",
       "6      PR         56\n",
       "4      RJ         94\n",
       "17     RN         11\n",
       "20     RO          7\n",
       "22     RR          4\n",
       "9      RS         35\n",
       "11     SC         24\n",
       "19     SE         10\n",
       "8      SP         43\n",
       "10     TO         25"
      ]
     },
     "execution_count": 58,
     "metadata": {},
     "output_type": "execute_result"
    }
   ],
   "source": [
    "dados_grafico"
   ]
  },
  {
   "cell_type": "code",
   "execution_count": 80,
   "metadata": {},
   "outputs": [],
   "source": [
    "br_states = gpd.read_file('data/gadm36_BRA_1.shp')\n",
    "br_states = br_states.sort_values(by='HASC_1')"
   ]
  },
  {
   "cell_type": "code",
   "execution_count": null,
   "metadata": {},
   "outputs": [],
   "source": [
    "br_states['Acidentes'] = dados_grafico['Acidentes'].tolist()\n",
    "br_states"
   ]
  },
  {
   "cell_type": "code",
   "execution_count": 79,
   "metadata": {
    "scrolled": true
   },
   "outputs": [
    {
     "data": {
      "image/png": "[encoded data removed]",
      "text/plain": [
       "<Figure size 1080x864 with 2 Axes>"
      ]
     },
     "metadata": {
      "needs_background": "light"
     },
     "output_type": "display_data"
    }
   ],
   "source": [
    "fig, ax = plt.subplots(1, 1, figsize=(15, 12))\n",
    "br_states.plot(column='Acidentes', cmap='OrRd', linewidth=0.8, ax=ax, edgecolor='0.8', legend=True)\n",
    "ax.set_axis_off()\n",
    "\n",
    "leg = ax.get_legend()"
   ]
  },
  {
   "cell_type": "code",
   "execution_count": 62,
   "metadata": {},
   "outputs": [
    {
     "data": {
      "image/png": "[encoded data removed]",
      "text/plain": [
       "<Figure size 720x720 with 1 Axes>"
      ]
     },
     "metadata": {
      "needs_background": "light"
     },
     "output_type": "display_data"
    }
   ],
   "source": [
    "plt.figure(figsize=(10, 10))\n",
    "plt.bar(df_chuva['uf'].unique(), df_chuva['uf'].value_counts())\n",
    "plt.title('Distribuição dos acidentes causados pela chuva por estado (2022)')\n",
    "plt.xlabel('Estados')\n",
    "plt.ylabel('Número de acidentes')\n",
    "plt.xticks(rotation = 45)\n",
    "plt.show()"
   ]
  },
  {
   "cell_type": "code",
   "execution_count": 63,
   "metadata": {},
   "outputs": [
    {
     "data": {
      "image/png": "[encoded data removed]",
      "text/plain": [
       "<Figure size 468x468 with 1 Axes>"
      ]
     },
     "metadata": {},
     "output_type": "display_data"
    }
   ],
   "source": [
    "tipo_solo = lambda x: 'Urbano' if x == 'Sim' else 'Rural'\n",
    "df_chuva.loc[:, 'solo'] = df_chuva['uso_solo'].apply(tipo_solo)\n",
    "\n",
    "plt.figure(figsize=(6.5, 6.5))\n",
    "plt.title('Relação entre tipo do solo e acidentes')\n",
    "plt.pie(df_chuva['solo'].value_counts(), explode = (0.1, 0), labels=df_chuva['solo'].unique(), autopct='%1.1f%%', shadow=True)\n",
    "plt.show()"
   ]
  },
  {
   "cell_type": "code",
   "execution_count": 64,
   "metadata": {},
   "outputs": [
    {
     "data": {
      "image/png": "[encoded data removed]",
      "text/plain": [
       "<Figure size 468x468 with 1 Axes>"
      ]
     },
     "metadata": {},
     "output_type": "display_data"
    }
   ],
   "source": [
    "percentages = datatran_df.causa_acidente.value_counts(normalize=True)\n",
    "rain_percentage = percentages['Chuva']\n",
    "all_percentages = np.sum(percentages.drop('Chuva'))\n",
    "\n",
    "plt.figure(figsize=(6.5, 6.5))\n",
    "plt.title('Porcentagem de acidentes causados por chuva')\n",
    "plt.pie([rain_percentage, all_percentages], labels=['Chuva', 'Outras causas'], autopct='%1.1f%%', shadow=True)\n",
    "plt.show()"
   ]
  },
  {
   "cell_type": "code",
   "execution_count": 65,
   "metadata": {},
   "outputs": [
    {
     "data": {
      "text/plain": [
       "Rural     888\n",
       "Urbano    247\n",
       "Name: solo, dtype: int64"
      ]
     },
     "execution_count": 65,
     "metadata": {},
     "output_type": "execute_result"
    }
   ],
   "source": [
    "df_chuva['solo'].value_counts()"
   ]
  },
  {
   "cell_type": "code",
   "execution_count": 66,
   "metadata": {},
   "outputs": [
    {
     "data": {
      "text/plain": [
       "Saída de leito carroçável         458\n",
       "Colisão com objeto                151\n",
       "Tombamento                        108\n",
       "Capotamento                        93\n",
       "Colisão traseira                   84\n",
       "Queda de ocupante de veículo       74\n",
       "Colisão frontal                    64\n",
       "Colisão lateral mesmo sentido      34\n",
       "Colisão transversal                17\n",
       "Colisão lateral sentido oposto     17\n",
       "Eventos atípicos                   14\n",
       "Atropelamento de Pedestre          14\n",
       "Engavetamento                       5\n",
       "Derramamento de carga               2\n",
       "Name: tipo_acidente, dtype: int64"
      ]
     },
     "execution_count": 66,
     "metadata": {},
     "output_type": "execute_result"
    }
   ],
   "source": [
    "df_chuva['tipo_acidente'].value_counts()"
   ]
  },
  {
   "cell_type": "code",
   "execution_count": 67,
   "metadata": {},
   "outputs": [
    {
     "data": {
      "text/plain": [
       "Com Vítimas Feridas    906\n",
       "Sem Vítimas            176\n",
       "Com Vítimas Fatais      53\n",
       "Name: classificacao_acidente, dtype: int64"
      ]
     },
     "execution_count": 67,
     "metadata": {},
     "output_type": "execute_result"
    }
   ],
   "source": [
    "df_chuva['classificacao_acidente'].value_counts()"
   ]
  },
  {
   "cell_type": "code",
   "execution_count": 68,
   "metadata": {},
   "outputs": [
    {
     "data": {
      "text/plain": [
       "Dupla       579\n",
       "Simples     487\n",
       "Múltipla     69\n",
       "Name: tipo_pista, dtype: int64"
      ]
     },
     "execution_count": 68,
     "metadata": {},
     "output_type": "execute_result"
    }
   ],
   "source": [
    "df_chuva['tipo_pista'].value_counts()"
   ]
  },
  {
   "cell_type": "code",
   "execution_count": 69,
   "metadata": {},
   "outputs": [
    {
     "data": {
      "text/plain": [
       "Reta                     517\n",
       "Curva                    409\n",
       "Não Informado            144\n",
       "Desvio Temporário         40\n",
       "Rotatória                  8\n",
       "Interseção de vias         8\n",
       "Retorno Regulamentado      3\n",
       "Túnel                      2\n",
       "Ponte                      2\n",
       "Viaduto                    2\n",
       "Name: tracado_via, dtype: int64"
      ]
     },
     "execution_count": 69,
     "metadata": {},
     "output_type": "execute_result"
    }
   ],
   "source": [
    "df_chuva['tracado_via'].value_counts()"
   ]
  },
  {
   "cell_type": "code",
   "execution_count": 70,
   "metadata": {},
   "outputs": [
    {
     "data": {
      "text/plain": [
       "Crescente        627\n",
       "Decrescente      507\n",
       "Não Informado      1\n",
       "Name: sentido_via, dtype: int64"
      ]
     },
     "execution_count": 70,
     "metadata": {},
     "output_type": "execute_result"
    }
   ],
   "source": [
    "df_chuva['sentido_via'].value_counts()"
   ]
  },
  {
   "cell_type": "code",
   "execution_count": 71,
   "metadata": {},
   "outputs": [
    {
     "data": {
      "text/plain": [
       "Pleno dia      651\n",
       "Plena Noite    357\n",
       "Amanhecer       65\n",
       "Anoitecer       62\n",
       "Name: fase_dia, dtype: int64"
      ]
     },
     "execution_count": 71,
     "metadata": {},
     "output_type": "execute_result"
    }
   ],
   "source": [
    "df_chuva['fase_dia'].value_counts()"
   ]
  },
  {
   "cell_type": "code",
   "execution_count": 72,
   "metadata": {},
   "outputs": [
    {
     "data": {
      "text/plain": [
       "Chuva               1026\n",
       "Garoa/Chuvisco        72\n",
       "Nublado               18\n",
       "Céu Claro             14\n",
       "Nevoeiro/Neblina       3\n",
       "Sol                    1\n",
       "Granizo                1\n",
       "Name: condicao_metereologica, dtype: int64"
      ]
     },
     "execution_count": 72,
     "metadata": {},
     "output_type": "execute_result"
    }
   ],
   "source": [
    "# Sol?\n",
    "df_chuva['condicao_metereologica'].value_counts()"
   ]
  },
  {
   "cell_type": "code",
   "execution_count": null,
   "metadata": {},
   "outputs": [],
   "source": []
  }
 ],
 "metadata": {
  "colab": {
   "provenance": []
  },
  "kernelspec": {
   "display_name": "Python 3 (ipykernel)",
   "language": "python",
   "name": "python3"
  },
  "language_info": {
   "codemirror_mode": {
    "name": "ipython",
    "version": 3
   },
   "file_extension": ".py",
   "mimetype": "text/x-python",
   "name": "python",
   "nbconvert_exporter": "python",
   "pygments_lexer": "ipython3",
   "version": "3.9.12"
  }
 },
 "nbformat": 4,
 "nbformat_minor": 1
}
