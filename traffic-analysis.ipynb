{
  "cells": [
    {
      "cell_type": "markdown",
      "metadata": {},
      "source": [
        "# Análise dos Acidentes de Trânsito e suas Condições Metereológicas\n",
        "\n",
        "## Projeto da disciplina **SSC0957 - Práticas em Ciência de Dados II**\n",
        "\n",
        "* Alexandre Eduardo de Souza Jesus - alexandre_souza@usp.br - 12559506\n",
        "\n",
        "* Gustavo Silva de Oliveira - guspfc03@usp.br - 12567231\n",
        "\n",
        "* Lucas Ivars Cadima Ciziks - luciziks@usp.br - 125599472\n",
        "\n",
        "---"
      ]
    },
    {
      "cell_type": "markdown",
      "metadata": {},
      "source": [
        "## 1. Introdução"
      ]
    },
    {
      "cell_type": "markdown",
      "metadata": {},
      "source": [
        "## 2. Metodologia"
      ]
    },
    {
      "cell_type": "markdown",
      "metadata": {},
      "source": [
        "## 3. Compreensão dos Dados"
      ]
    },
    {
      "cell_type": "markdown",
      "metadata": {},
      "source": [
        "### 3.1. Coleta de Dados"
      ]
    },
    {
      "cell_type": "markdown",
      "metadata": {},
      "source": [
        "O conjunto de dados utilizado para a análise do problema foi coletado no site do Governo Federal, disponível em [Acidentes](https://www.gov.br/prf/pt-br/acesso-a-informacao/dados-abertos/dados-abertos-acidentes). Os dados foram coletados e registrados pela Polícia Rodoviária Federal, agrupado por ocorrências de 2007 até fevereiro de 2023."
      ]
    },
    {
      "cell_type": "markdown",
      "metadata": {},
      "source": [
        "### 3.2. Dicionário de Dados\n",
        "\n",
        "* **data_inversa**: Data da ocorrência no formato *mm/dd/aaaa*;\n",
        "\n",
        "* **dia_semana**: Dia da semana da ocorrência;\n",
        "\n",
        "* **horario**: Horário da ocorrência no formato *hh:mm:ss*;\n",
        "\n",
        "* **uf**: Unidade da federação;\n",
        "\n",
        "* **municipio**: Nome do município de ocorrência do acidente;\n",
        "\n",
        "* **causa_acidente**: Identificação da causa principal do acidente;\n",
        "\n",
        "* **tipo_acidente**: Identificação do tipo de acidente;\n",
        "\n",
        "* **classificação_acidente**: Classificação quanto à gravidade do acidente;\n",
        "\n",
        "* **sentido_via**: Sentido da via considerando o ponto de colisão;\n",
        "\n",
        "* **condição_metereologica**: Condição metereológica no momento do acidente;\n",
        "\n",
        "* **tipo_pista**: Tipo da pista considerando a quantidade de faixas;\n",
        "\n",
        "* **tracado_via**: Descrição do traçado da via;\n",
        "\n",
        "* **uso_solo**: Descrição sobre as características do local do acidente, em que \"Sim\" significa \"Urbano\" e \"Não\" significa \"Rural\". O tipo de solo \"Urbano\" caracteriza os trechos de rodovia que estão compreendidos em áreas edificadas, ou seja, áreas públicas ou privadas em que se é possível realizar construções. Por outro lado, o tipo de solo \"Rural\" refere-se ao oposto disso. Em suma, caso o local do acidente seja dentro de uma cidade, ele será caracterizado como \"Urbano\", e caso ele tenha ocorrido em locais onde não há área construída no entorno da rodovia, ele será caracterizado como \"Rural\".;\n",
        "\n",
        "* **latitude**: Latitude do local do acidente em formato geodésico decimal;\n",
        "\n",
        "* **longitude**: Longitude do local do acidente em formato geodésico decimal;\n",
        "\n",
        "* **pessoas**: Total de pessoas envolvidas na ocorrência;\n",
        "\n",
        "* **mortos**: Total de pessoas mortas envolvidas na ocorrência;\n",
        "\n",
        "* **feridos_leves**: Total de pessoas com ferimentos leves envolvidas na ocorrência;\n",
        "\n",
        "* **feridos**: Total de pessoas feridas envolvidas na ocorrência;\n",
        "\n",
        "* **ilesos**: Total de pessoas ilesas envolvidas na ocorrência;\n",
        "\n",
        "* **ignorados**: Total de pessoas envolvidas na ocorrência e que não se soube o estado físico;\n",
        "\n",
        "* **veiculos**: Total de veículos envolvidos na ocorrência;"
      ]
    },
    {
      "cell_type": "markdown",
      "metadata": {},
      "source": [
        "### 3.3. Tipo das Variáveis"
      ]
    },
    {
      "cell_type": "markdown",
      "metadata": {},
      "source": [
        "## 4. Tratamento dos Dados"
      ]
    },
    {
      "cell_type": "code",
      "execution_count": 49,
      "metadata": {
        "id": "0zAkCu4QLuQ8"
      },
      "outputs": [],
      "source": [
        "# Importando Bibliotecas\n",
        "import pandas as pd\n",
        "import numpy as np\n",
        "import matplotlib.pyplot as plt\n",
        "\n",
        "pd.set_option('mode.chained_assignment', None)"
      ]
    },
    {
      "cell_type": "code",
      "execution_count": 2,
      "metadata": {
        "id": "EfilxuhxL3qz"
      },
      "outputs": [
        {
          "data": {
            "text/html": [
              "<div>\n",
              "<style scoped>\n",
              "    .dataframe tbody tr th:only-of-type {\n",
              "        vertical-align: middle;\n",
              "    }\n",
              "\n",
              "    .dataframe tbody tr th {\n",
              "        vertical-align: top;\n",
              "    }\n",
              "\n",
              "    .dataframe thead th {\n",
              "        text-align: right;\n",
              "    }\n",
              "</style>\n",
              "<table border=\"1\" class=\"dataframe\">\n",
              "  <thead>\n",
              "    <tr style=\"text-align: right;\">\n",
              "      <th></th>\n",
              "      <th>id</th>\n",
              "      <th>data_inversa</th>\n",
              "      <th>dia_semana</th>\n",
              "      <th>horario</th>\n",
              "      <th>uf</th>\n",
              "      <th>br</th>\n",
              "      <th>km</th>\n",
              "      <th>municipio</th>\n",
              "      <th>causa_acidente</th>\n",
              "      <th>tipo_acidente</th>\n",
              "      <th>...</th>\n",
              "      <th>feridos_graves</th>\n",
              "      <th>ilesos</th>\n",
              "      <th>ignorados</th>\n",
              "      <th>feridos</th>\n",
              "      <th>veiculos</th>\n",
              "      <th>latitude</th>\n",
              "      <th>longitude</th>\n",
              "      <th>regional</th>\n",
              "      <th>delegacia</th>\n",
              "      <th>uop</th>\n",
              "    </tr>\n",
              "  </thead>\n",
              "  <tbody>\n",
              "    <tr>\n",
              "      <th>0</th>\n",
              "      <td>405151</td>\n",
              "      <td>1/1/2022</td>\n",
              "      <td>sábado</td>\n",
              "      <td>1:35:00</td>\n",
              "      <td>PI</td>\n",
              "      <td>316.0</td>\n",
              "      <td>415.0</td>\n",
              "      <td>MARCOLANDIA</td>\n",
              "      <td>Ingestão de álcool pelo condutor</td>\n",
              "      <td>Colisão traseira</td>\n",
              "      <td>...</td>\n",
              "      <td>0</td>\n",
              "      <td>1</td>\n",
              "      <td>0</td>\n",
              "      <td>1</td>\n",
              "      <td>2</td>\n",
              "      <td>-7.432800</td>\n",
              "      <td>-40.682619</td>\n",
              "      <td>SPRF-PI</td>\n",
              "      <td>DEL04-PI</td>\n",
              "      <td>UOP03-DEL04-PI</td>\n",
              "    </tr>\n",
              "    <tr>\n",
              "      <th>1</th>\n",
              "      <td>405158</td>\n",
              "      <td>1/1/2022</td>\n",
              "      <td>sábado</td>\n",
              "      <td>2:40:00</td>\n",
              "      <td>PR</td>\n",
              "      <td>116.0</td>\n",
              "      <td>33.0</td>\n",
              "      <td>CAMPINA GRANDE DO SUL</td>\n",
              "      <td>Ingestão de álcool pelo condutor</td>\n",
              "      <td>Tombamento</td>\n",
              "      <td>...</td>\n",
              "      <td>0</td>\n",
              "      <td>0</td>\n",
              "      <td>0</td>\n",
              "      <td>1</td>\n",
              "      <td>1</td>\n",
              "      <td>-25.114403</td>\n",
              "      <td>-48.846755</td>\n",
              "      <td>SPRF-PR</td>\n",
              "      <td>DEL01-PR</td>\n",
              "      <td>UOP02-DEL01-PR</td>\n",
              "    </tr>\n",
              "    <tr>\n",
              "      <th>2</th>\n",
              "      <td>405172</td>\n",
              "      <td>1/1/2022</td>\n",
              "      <td>sábado</td>\n",
              "      <td>5:22:00</td>\n",
              "      <td>MS</td>\n",
              "      <td>163.0</td>\n",
              "      <td>393.0</td>\n",
              "      <td>NOVA ALVORADA DO SUL</td>\n",
              "      <td>Condutor deixou de manter distância do veículo...</td>\n",
              "      <td>Colisão traseira</td>\n",
              "      <td>...</td>\n",
              "      <td>0</td>\n",
              "      <td>1</td>\n",
              "      <td>0</td>\n",
              "      <td>1</td>\n",
              "      <td>2</td>\n",
              "      <td>-21.228445</td>\n",
              "      <td>-54.456296</td>\n",
              "      <td>SPRF-MS</td>\n",
              "      <td>DEL02-MS</td>\n",
              "      <td>UOP01-DEL02-MS</td>\n",
              "    </tr>\n",
              "    <tr>\n",
              "      <th>3</th>\n",
              "      <td>405203</td>\n",
              "      <td>1/1/2022</td>\n",
              "      <td>sábado</td>\n",
              "      <td>7:00:00</td>\n",
              "      <td>RJ</td>\n",
              "      <td>101.0</td>\n",
              "      <td>457.0</td>\n",
              "      <td>ANGRA DOS REIS</td>\n",
              "      <td>Reação tardia ou ineficiente do condutor</td>\n",
              "      <td>Colisão frontal</td>\n",
              "      <td>...</td>\n",
              "      <td>1</td>\n",
              "      <td>1</td>\n",
              "      <td>0</td>\n",
              "      <td>1</td>\n",
              "      <td>2</td>\n",
              "      <td>-23.031498</td>\n",
              "      <td>-44.177153</td>\n",
              "      <td>SPRF-RJ</td>\n",
              "      <td>DEL03-RJ</td>\n",
              "      <td>UOP02-DEL03-RJ</td>\n",
              "    </tr>\n",
              "    <tr>\n",
              "      <th>4</th>\n",
              "      <td>405207</td>\n",
              "      <td>1/1/2022</td>\n",
              "      <td>sábado</td>\n",
              "      <td>9:00:00</td>\n",
              "      <td>MG</td>\n",
              "      <td>40.0</td>\n",
              "      <td>508.3</td>\n",
              "      <td>RIBEIRAO DAS NEVES</td>\n",
              "      <td>Acumulo de água sobre o pavimento</td>\n",
              "      <td>Saída de leito carroçável</td>\n",
              "      <td>...</td>\n",
              "      <td>0</td>\n",
              "      <td>3</td>\n",
              "      <td>0</td>\n",
              "      <td>0</td>\n",
              "      <td>1</td>\n",
              "      <td>-19.760612</td>\n",
              "      <td>-44.134754</td>\n",
              "      <td>SPRF-MG</td>\n",
              "      <td>DEL02-MG</td>\n",
              "      <td>UOP01-DEL02-MG</td>\n",
              "    </tr>\n",
              "  </tbody>\n",
              "</table>\n",
              "<p>5 rows × 30 columns</p>\n",
              "</div>"
            ],
            "text/plain": [
              "       id data_inversa dia_semana  horario  uf     br     km  \\\n",
              "0  405151     1/1/2022     sábado  1:35:00  PI  316.0  415.0   \n",
              "1  405158     1/1/2022     sábado  2:40:00  PR  116.0   33.0   \n",
              "2  405172     1/1/2022     sábado  5:22:00  MS  163.0  393.0   \n",
              "3  405203     1/1/2022     sábado  7:00:00  RJ  101.0  457.0   \n",
              "4  405207     1/1/2022     sábado  9:00:00  MG   40.0  508.3   \n",
              "\n",
              "               municipio                                     causa_acidente  \\\n",
              "0            MARCOLANDIA                   Ingestão de álcool pelo condutor   \n",
              "1  CAMPINA GRANDE DO SUL                   Ingestão de álcool pelo condutor   \n",
              "2   NOVA ALVORADA DO SUL  Condutor deixou de manter distância do veículo...   \n",
              "3         ANGRA DOS REIS           Reação tardia ou ineficiente do condutor   \n",
              "4     RIBEIRAO DAS NEVES                  Acumulo de água sobre o pavimento   \n",
              "\n",
              "               tipo_acidente  ... feridos_graves ilesos ignorados feridos  \\\n",
              "0           Colisão traseira  ...              0      1         0       1   \n",
              "1                 Tombamento  ...              0      0         0       1   \n",
              "2           Colisão traseira  ...              0      1         0       1   \n",
              "3            Colisão frontal  ...              1      1         0       1   \n",
              "4  Saída de leito carroçável  ...              0      3         0       0   \n",
              "\n",
              "  veiculos   latitude  longitude  regional  delegacia             uop  \n",
              "0        2  -7.432800 -40.682619   SPRF-PI   DEL04-PI  UOP03-DEL04-PI  \n",
              "1        1 -25.114403 -48.846755   SPRF-PR   DEL01-PR  UOP02-DEL01-PR  \n",
              "2        2 -21.228445 -54.456296   SPRF-MS   DEL02-MS  UOP01-DEL02-MS  \n",
              "3        2 -23.031498 -44.177153   SPRF-RJ   DEL03-RJ  UOP02-DEL03-RJ  \n",
              "4        1 -19.760612 -44.134754   SPRF-MG   DEL02-MG  UOP01-DEL02-MG  \n",
              "\n",
              "[5 rows x 30 columns]"
            ]
          },
          "execution_count": 2,
          "metadata": {},
          "output_type": "execute_result"
        }
      ],
      "source": [
        "# Leitura dos dados de 2022\n",
        "datatran_df = pd.read_csv(\"data/datatran_2022.csv\")\n",
        "datatran_df.head()"
      ]
    },
    {
      "cell_type": "code",
      "execution_count": 3,
      "metadata": {},
      "outputs": [],
      "source": [
        "# Dropando colunas desinteressantes à análise\n",
        "datatran_df.drop(columns = ['uop','delegacia','regional','br', 'km', 'id'], inplace = True)"
      ]
    },
    {
      "cell_type": "code",
      "execution_count": 4,
      "metadata": {},
      "outputs": [
        {
          "data": {
            "text/html": [
              "<div>\n",
              "<style scoped>\n",
              "    .dataframe tbody tr th:only-of-type {\n",
              "        vertical-align: middle;\n",
              "    }\n",
              "\n",
              "    .dataframe tbody tr th {\n",
              "        vertical-align: top;\n",
              "    }\n",
              "\n",
              "    .dataframe thead th {\n",
              "        text-align: right;\n",
              "    }\n",
              "</style>\n",
              "<table border=\"1\" class=\"dataframe\">\n",
              "  <thead>\n",
              "    <tr style=\"text-align: right;\">\n",
              "      <th></th>\n",
              "      <th>data_inversa</th>\n",
              "      <th>dia_semana</th>\n",
              "      <th>horario</th>\n",
              "      <th>uf</th>\n",
              "      <th>municipio</th>\n",
              "      <th>causa_acidente</th>\n",
              "      <th>tipo_acidente</th>\n",
              "      <th>classificacao_acidente</th>\n",
              "      <th>fase_dia</th>\n",
              "      <th>sentido_via</th>\n",
              "      <th>...</th>\n",
              "      <th>pessoas</th>\n",
              "      <th>mortos</th>\n",
              "      <th>feridos_leves</th>\n",
              "      <th>feridos_graves</th>\n",
              "      <th>ilesos</th>\n",
              "      <th>ignorados</th>\n",
              "      <th>feridos</th>\n",
              "      <th>veiculos</th>\n",
              "      <th>latitude</th>\n",
              "      <th>longitude</th>\n",
              "    </tr>\n",
              "  </thead>\n",
              "  <tbody>\n",
              "  </tbody>\n",
              "</table>\n",
              "<p>0 rows × 24 columns</p>\n",
              "</div>"
            ],
            "text/plain": [
              "Empty DataFrame\n",
              "Columns: [data_inversa, dia_semana, horario, uf, municipio, causa_acidente, tipo_acidente, classificacao_acidente, fase_dia, sentido_via, condicao_metereologica, tipo_pista, tracado_via, uso_solo, pessoas, mortos, feridos_leves, feridos_graves, ilesos, ignorados, feridos, veiculos, latitude, longitude]\n",
              "Index: []\n",
              "\n",
              "[0 rows x 24 columns]"
            ]
          },
          "execution_count": 4,
          "metadata": {},
          "output_type": "execute_result"
        }
      ],
      "source": [
        "# Nenhuma ocorrência com valor NaN\n",
        "datatran_df[datatran_df.isna().any(axis=1)]"
      ]
    },
    {
      "cell_type": "code",
      "execution_count": 5,
      "metadata": {
        "colab": {
          "base_uri": "https://localhost:8080/"
        },
        "id": "okSxPwHoOhhI",
        "outputId": "19f2ddf2-0e95-4fd0-b3aa-39486229e1d1"
      },
      "outputs": [
        {
          "data": {
            "text/plain": [
              "64547"
            ]
          },
          "execution_count": 5,
          "metadata": {},
          "output_type": "execute_result"
        }
      ],
      "source": [
        "# Quantidade de ocorrências registradas em 2022\n",
        "len(datatran_df)"
      ]
    },
    {
      "cell_type": "markdown",
      "metadata": {},
      "source": [
        "## 5. Análise Exploratória dos Dados"
      ]
    },
    {
      "cell_type": "code",
      "execution_count": 6,
      "metadata": {},
      "outputs": [
        {
          "data": {
            "text/html": [
              "<div>\n",
              "<style scoped>\n",
              "    .dataframe tbody tr th:only-of-type {\n",
              "        vertical-align: middle;\n",
              "    }\n",
              "\n",
              "    .dataframe tbody tr th {\n",
              "        vertical-align: top;\n",
              "    }\n",
              "\n",
              "    .dataframe thead th {\n",
              "        text-align: right;\n",
              "    }\n",
              "</style>\n",
              "<table border=\"1\" class=\"dataframe\">\n",
              "  <thead>\n",
              "    <tr style=\"text-align: right;\">\n",
              "      <th></th>\n",
              "      <th>data_inversa</th>\n",
              "      <th>dia_semana</th>\n",
              "      <th>horario</th>\n",
              "      <th>uf</th>\n",
              "      <th>municipio</th>\n",
              "      <th>causa_acidente</th>\n",
              "      <th>tipo_acidente</th>\n",
              "      <th>classificacao_acidente</th>\n",
              "      <th>fase_dia</th>\n",
              "      <th>sentido_via</th>\n",
              "      <th>...</th>\n",
              "      <th>pessoas</th>\n",
              "      <th>mortos</th>\n",
              "      <th>feridos_leves</th>\n",
              "      <th>feridos_graves</th>\n",
              "      <th>ilesos</th>\n",
              "      <th>ignorados</th>\n",
              "      <th>feridos</th>\n",
              "      <th>veiculos</th>\n",
              "      <th>latitude</th>\n",
              "      <th>longitude</th>\n",
              "    </tr>\n",
              "  </thead>\n",
              "  <tbody>\n",
              "    <tr>\n",
              "      <th>6</th>\n",
              "      <td>1/1/2022</td>\n",
              "      <td>sábado</td>\n",
              "      <td>10:20:00</td>\n",
              "      <td>MG</td>\n",
              "      <td>CAETANOPOLIS</td>\n",
              "      <td>Chuva</td>\n",
              "      <td>Colisão lateral mesmo sentido</td>\n",
              "      <td>Com Vítimas Feridas</td>\n",
              "      <td>Pleno dia</td>\n",
              "      <td>Crescente</td>\n",
              "      <td>...</td>\n",
              "      <td>3</td>\n",
              "      <td>0</td>\n",
              "      <td>1</td>\n",
              "      <td>0</td>\n",
              "      <td>2</td>\n",
              "      <td>0</td>\n",
              "      <td>1</td>\n",
              "      <td>2</td>\n",
              "      <td>-19.333821</td>\n",
              "      <td>-44.361079</td>\n",
              "    </tr>\n",
              "    <tr>\n",
              "      <th>29</th>\n",
              "      <td>1/2/2022</td>\n",
              "      <td>domingo</td>\n",
              "      <td>16:00:00</td>\n",
              "      <td>DF</td>\n",
              "      <td>BRASILIA</td>\n",
              "      <td>Chuva</td>\n",
              "      <td>Colisão traseira</td>\n",
              "      <td>Com Vítimas Feridas</td>\n",
              "      <td>Pleno dia</td>\n",
              "      <td>Decrescente</td>\n",
              "      <td>...</td>\n",
              "      <td>3</td>\n",
              "      <td>0</td>\n",
              "      <td>1</td>\n",
              "      <td>0</td>\n",
              "      <td>2</td>\n",
              "      <td>0</td>\n",
              "      <td>1</td>\n",
              "      <td>2</td>\n",
              "      <td>-15.943619</td>\n",
              "      <td>-48.172115</td>\n",
              "    </tr>\n",
              "    <tr>\n",
              "      <th>72</th>\n",
              "      <td>1/3/2022</td>\n",
              "      <td>segunda-feira</td>\n",
              "      <td>21:15:00</td>\n",
              "      <td>MG</td>\n",
              "      <td>SANTANA DO PARAISO</td>\n",
              "      <td>Chuva</td>\n",
              "      <td>Colisão frontal</td>\n",
              "      <td>Com Vítimas Feridas</td>\n",
              "      <td>Plena Noite</td>\n",
              "      <td>Crescente</td>\n",
              "      <td>...</td>\n",
              "      <td>3</td>\n",
              "      <td>0</td>\n",
              "      <td>2</td>\n",
              "      <td>0</td>\n",
              "      <td>1</td>\n",
              "      <td>0</td>\n",
              "      <td>2</td>\n",
              "      <td>2</td>\n",
              "      <td>-19.388008</td>\n",
              "      <td>-42.476167</td>\n",
              "    </tr>\n",
              "    <tr>\n",
              "      <th>175</th>\n",
              "      <td>1/6/2022</td>\n",
              "      <td>quinta-feira</td>\n",
              "      <td>15:05:00</td>\n",
              "      <td>ES</td>\n",
              "      <td>DOMINGOS MARTINS</td>\n",
              "      <td>Chuva</td>\n",
              "      <td>Colisão frontal</td>\n",
              "      <td>Com Vítimas Feridas</td>\n",
              "      <td>Pleno dia</td>\n",
              "      <td>Decrescente</td>\n",
              "      <td>...</td>\n",
              "      <td>5</td>\n",
              "      <td>0</td>\n",
              "      <td>0</td>\n",
              "      <td>4</td>\n",
              "      <td>1</td>\n",
              "      <td>0</td>\n",
              "      <td>4</td>\n",
              "      <td>2</td>\n",
              "      <td>-20.380268</td>\n",
              "      <td>-40.630009</td>\n",
              "    </tr>\n",
              "    <tr>\n",
              "      <th>183</th>\n",
              "      <td>1/6/2022</td>\n",
              "      <td>quinta-feira</td>\n",
              "      <td>17:50:00</td>\n",
              "      <td>GO</td>\n",
              "      <td>TEREZOPOLIS DE GOIAS</td>\n",
              "      <td>Chuva</td>\n",
              "      <td>Saída de leito carroçável</td>\n",
              "      <td>Com Vítimas Feridas</td>\n",
              "      <td>Pleno dia</td>\n",
              "      <td>Crescente</td>\n",
              "      <td>...</td>\n",
              "      <td>3</td>\n",
              "      <td>0</td>\n",
              "      <td>1</td>\n",
              "      <td>0</td>\n",
              "      <td>2</td>\n",
              "      <td>0</td>\n",
              "      <td>1</td>\n",
              "      <td>1</td>\n",
              "      <td>-16.478900</td>\n",
              "      <td>-49.086400</td>\n",
              "    </tr>\n",
              "  </tbody>\n",
              "</table>\n",
              "<p>5 rows × 24 columns</p>\n",
              "</div>"
            ],
            "text/plain": [
              "    data_inversa     dia_semana   horario  uf             municipio  \\\n",
              "6       1/1/2022         sábado  10:20:00  MG          CAETANOPOLIS   \n",
              "29      1/2/2022        domingo  16:00:00  DF              BRASILIA   \n",
              "72      1/3/2022  segunda-feira  21:15:00  MG    SANTANA DO PARAISO   \n",
              "175     1/6/2022   quinta-feira  15:05:00  ES      DOMINGOS MARTINS   \n",
              "183     1/6/2022   quinta-feira  17:50:00  GO  TEREZOPOLIS DE GOIAS   \n",
              "\n",
              "    causa_acidente                  tipo_acidente classificacao_acidente  \\\n",
              "6            Chuva  Colisão lateral mesmo sentido    Com Vítimas Feridas   \n",
              "29           Chuva               Colisão traseira    Com Vítimas Feridas   \n",
              "72           Chuva                Colisão frontal    Com Vítimas Feridas   \n",
              "175          Chuva                Colisão frontal    Com Vítimas Feridas   \n",
              "183          Chuva      Saída de leito carroçável    Com Vítimas Feridas   \n",
              "\n",
              "        fase_dia  sentido_via  ... pessoas mortos feridos_leves  \\\n",
              "6      Pleno dia    Crescente  ...       3      0             1   \n",
              "29     Pleno dia  Decrescente  ...       3      0             1   \n",
              "72   Plena Noite    Crescente  ...       3      0             2   \n",
              "175    Pleno dia  Decrescente  ...       5      0             0   \n",
              "183    Pleno dia    Crescente  ...       3      0             1   \n",
              "\n",
              "    feridos_graves  ilesos  ignorados  feridos  veiculos   latitude  longitude  \n",
              "6                0       2          0        1         2 -19.333821 -44.361079  \n",
              "29               0       2          0        1         2 -15.943619 -48.172115  \n",
              "72               0       1          0        2         2 -19.388008 -42.476167  \n",
              "175              4       1          0        4         2 -20.380268 -40.630009  \n",
              "183              0       2          0        1         1 -16.478900 -49.086400  \n",
              "\n",
              "[5 rows x 24 columns]"
            ]
          },
          "execution_count": 6,
          "metadata": {},
          "output_type": "execute_result"
        }
      ],
      "source": [
        "# Coletando Acidentes que possuem como causa principal a Chuva\n",
        "df_chuva = datatran_df[datatran_df['causa_acidente'] == 'Chuva']\n",
        "df_chuva.head()"
      ]
    },
    {
      "cell_type": "code",
      "execution_count": 20,
      "metadata": {},
      "outputs": [
        {
          "data": {
            "image/png": "[encoded data removed]",
            "text/plain": [
              "<Figure size 1000x1000 with 1 Axes>"
            ]
          },
          "metadata": {},
          "output_type": "display_data"
        }
      ],
      "source": [
        "plt.figure(figsize=(10, 10))\n",
        "plt.bar(df_chuva['uf'].unique(), df_chuva['uf'].value_counts())\n",
        "plt.title('Distribuição dos acidentes causados pela chuva por estado (2022)')\n",
        "plt.xlabel('Estados')\n",
        "plt.ylabel('Número de acidentes')\n",
        "plt.xticks(rotation = 45)\n",
        "plt.show()"
      ]
    },
    {
      "cell_type": "code",
      "execution_count": 60,
      "metadata": {},
      "outputs": [
        {
          "data": {
            "image/png": "[encoded data removed]",
            "text/plain": [
              "<Figure size 650x650 with 1 Axes>"
            ]
          },
          "metadata": {},
          "output_type": "display_data"
        }
      ],
      "source": [
        "tipo_solo = lambda x: 'Urbano' if x == 'Sim' else 'Rural'\n",
        "df_chuva.loc[:, 'solo'] = df_chuva['uso_solo'].apply(tipo_solo)\n",
        "\n",
        "plt.figure(figsize=(6.5, 6.5))\n",
        "plt.title('Relação entre tipo do solo e acidentes')\n",
        "plt.pie(df_chuva['solo'].value_counts(), explode = (0.1, 0), labels=df_chuva['solo'].unique(), autopct='%1.1f%%', shadow=True)\n",
        "plt.show()"
      ]
    },
    {
      "cell_type": "code",
      "execution_count": 83,
      "metadata": {},
      "outputs": [
        {
          "data": {
            "image/png": "[encoded data removed]",
            "text/plain": [
              "<Figure size 650x650 with 1 Axes>"
            ]
          },
          "metadata": {},
          "output_type": "display_data"
        }
      ],
      "source": [
        "percentages = datatran_df.causa_acidente.value_counts(normalize=True)\n",
        "rain_percentage = percentages['Chuva']\n",
        "all_percentages = np.sum(percentages.drop('Chuva'))\n",
        "\n",
        "plt.figure(figsize=(6.5, 6.5))\n",
        "plt.title('Porcentagem de acidentes causados por chuva')\n",
        "plt.pie([rain_percentage, all_percentages], labels=['Chuva', 'Outras causas'], autopct='%1.1f%%', shadow=True)\n",
        "plt.show()"
      ]
    },
    {
      "cell_type": "code",
      "execution_count": 24,
      "metadata": {},
      "outputs": [
        {
          "data": {
            "text/plain": [
              "Rural     888\n",
              "Urbano    247\n",
              "Name: solo, dtype: int64"
            ]
          },
          "execution_count": 24,
          "metadata": {},
          "output_type": "execute_result"
        }
      ],
      "source": [
        "df_chuva['solo'].value_counts()"
      ]
    },
    {
      "cell_type": "code",
      "execution_count": 8,
      "metadata": {},
      "outputs": [
        {
          "data": {
            "text/plain": [
              "Saída de leito carroçável         458\n",
              "Colisão com objeto                151\n",
              "Tombamento                        108\n",
              "Capotamento                        93\n",
              "Colisão traseira                   84\n",
              "Queda de ocupante de veículo       74\n",
              "Colisão frontal                    64\n",
              "Colisão lateral mesmo sentido      34\n",
              "Colisão transversal                17\n",
              "Colisão lateral sentido oposto     17\n",
              "Eventos atípicos                   14\n",
              "Atropelamento de Pedestre          14\n",
              "Engavetamento                       5\n",
              "Derramamento de carga               2\n",
              "Name: tipo_acidente, dtype: int64"
            ]
          },
          "execution_count": 8,
          "metadata": {},
          "output_type": "execute_result"
        }
      ],
      "source": [
        "df_chuva['tipo_acidente'].value_counts()"
      ]
    },
    {
      "cell_type": "code",
      "execution_count": 9,
      "metadata": {},
      "outputs": [
        {
          "data": {
            "text/plain": [
              "Com Vítimas Feridas    906\n",
              "Sem Vítimas            176\n",
              "Com Vítimas Fatais      53\n",
              "Name: classificacao_acidente, dtype: int64"
            ]
          },
          "execution_count": 9,
          "metadata": {},
          "output_type": "execute_result"
        }
      ],
      "source": [
        "df_chuva['classificacao_acidente'].value_counts()"
      ]
    },
    {
      "cell_type": "code",
      "execution_count": 10,
      "metadata": {},
      "outputs": [
        {
          "data": {
            "text/plain": [
              "Dupla       579\n",
              "Simples     487\n",
              "Múltipla     69\n",
              "Name: tipo_pista, dtype: int64"
            ]
          },
          "execution_count": 10,
          "metadata": {},
          "output_type": "execute_result"
        }
      ],
      "source": [
        "df_chuva['tipo_pista'].value_counts()"
      ]
    },
    {
      "cell_type": "code",
      "execution_count": 11,
      "metadata": {},
      "outputs": [
        {
          "data": {
            "text/plain": [
              "Reta                     517\n",
              "Curva                    409\n",
              "Não Informado            144\n",
              "Desvio Temporário         40\n",
              "Rotatória                  8\n",
              "Interseção de vias         8\n",
              "Retorno Regulamentado      3\n",
              "Túnel                      2\n",
              "Ponte                      2\n",
              "Viaduto                    2\n",
              "Name: tracado_via, dtype: int64"
            ]
          },
          "execution_count": 11,
          "metadata": {},
          "output_type": "execute_result"
        }
      ],
      "source": [
        "df_chuva['tracado_via'].value_counts()"
      ]
    },
    {
      "cell_type": "code",
      "execution_count": 12,
      "metadata": {},
      "outputs": [
        {
          "data": {
            "text/plain": [
              "Crescente        627\n",
              "Decrescente      507\n",
              "Não Informado      1\n",
              "Name: sentido_via, dtype: int64"
            ]
          },
          "execution_count": 12,
          "metadata": {},
          "output_type": "execute_result"
        }
      ],
      "source": [
        "df_chuva['sentido_via'].value_counts()"
      ]
    },
    {
      "cell_type": "code",
      "execution_count": 13,
      "metadata": {},
      "outputs": [
        {
          "data": {
            "text/plain": [
              "Pleno dia      651\n",
              "Plena Noite    357\n",
              "Amanhecer       65\n",
              "Anoitecer       62\n",
              "Name: fase_dia, dtype: int64"
            ]
          },
          "execution_count": 13,
          "metadata": {},
          "output_type": "execute_result"
        }
      ],
      "source": [
        "df_chuva['fase_dia'].value_counts()"
      ]
    },
    {
      "cell_type": "code",
      "execution_count": 14,
      "metadata": {},
      "outputs": [
        {
          "data": {
            "text/plain": [
              "Chuva               1026\n",
              "Garoa/Chuvisco        72\n",
              "Nublado               18\n",
              "Céu Claro             14\n",
              "Nevoeiro/Neblina       3\n",
              "Sol                    1\n",
              "Granizo                1\n",
              "Name: condicao_metereologica, dtype: int64"
            ]
          },
          "execution_count": 14,
          "metadata": {},
          "output_type": "execute_result"
        }
      ],
      "source": [
        "# Sol?\n",
        "df_chuva['condicao_metereologica'].value_counts()"
      ]
    },
    {
      "cell_type": "code",
      "execution_count": null,
      "metadata": {},
      "outputs": [],
      "source": []
    }
  ],
  "metadata": {
    "colab": {
      "provenance": []
    },
    "kernelspec": {
      "display_name": "Python 3",
      "name": "python3"
    },
    "language_info": {
      "codemirror_mode": {
        "name": "ipython",
        "version": 3
      },
      "file_extension": ".py",
      "mimetype": "text/x-python",
      "name": "python",
      "nbconvert_exporter": "python",
      "pygments_lexer": "ipython3",
      "version": "3.9.15"
    }
  },
  "nbformat": 4,
  "nbformat_minor": 0
}
