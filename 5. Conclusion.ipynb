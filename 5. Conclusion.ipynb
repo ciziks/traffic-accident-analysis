{
 "cells": [
  {
   "cell_type": "markdown",
   "metadata": {},
   "source": [
    "# Conclusão sobre os Acidentes de Trânsito\n",
    "\n",
    "## Projeto da disciplina **SSC0957 - Práticas em Ciência de Dados II**\n",
    "\n",
    "- Alexandre Eduardo de Souza Jesus - alexandre_souza@usp.br - 12559506\n",
    "\n",
    "- Lucas Ivars Cadima Ciziks - luciziks@usp.br - 125599472\n",
    "\n",
    "- Gustavo Silva de Oliveira - guspfc03@usp.br - 12567231\n",
    "\n",
    "<img src=\"pictures.gif\" style=\"width: 200px;\"/>\n",
    "\n",
    "---\n"
   ]
  },
  {
   "cell_type": "markdown",
   "metadata": {},
   "source": [
    "## 8. Considerações Finais"
   ]
  },
  {
   "cell_type": "markdown",
   "metadata": {},
   "source": [
    "Ao longo de todas as análises apresentadas diversos estudos foram feitos, desde visualizações gráficas para levantar hipóteses sobre os dados e melhor compreendê-los, até a aplicação de técnicas estatísticas para comprovar tais suspeitas e extrair ainda mais conclusões do conjunto de dados. O objetivo era, então, entender melhor quais eram os fatores que poderiam ter mais peso na ocorrência de um acidente, bem como compreender como as mudanças climáticas dos últimos anos poderiam interagir com os acidentes de trânsito.\n",
    "\n",
    "O primeiro passo para isso, então, foi realizar uma análise exploratória de todas as variáveis, com o foco nos acidentes que tiveram como causa principal a chuva. Dessa maneira, pôde-se perceber que os dias da semana possuem forte relação com o número de acidentes, assim como o horário do dia em que há mais observações. Horários de pico durante a semana e os fins de semana são aqueles com mais registros de acidentes.\n",
    "\n",
    "Seguindo a diante, foi feita uma análise observando em mais detalhes como as condições meteorológicas afetam os acidentes, ou seja, quais são os fatores climáticos que possuem mais correlação com as observações, principalmente aquelas cujo agente causador foi a chuva. Pôde-se perceber, então, que o tipo de solo é crucial para essa análise. Cerca de 78% dos acidentes causados pela chuva aconteceram em solo rural. Além disso, esses acidentes possuem um número alto de vítimas: mais de 95% deles possuem pessoas que se feriram em algum nível ou faleceram.\n",
    "\n",
    "Ainda dentro da análise exploratória, um fator que poderia ser relevante é o local onde os acidentes mais acontecem. A partir de uma normalização dos números de acidentes em cada rodovia pelo seu fluxo, cujo objetivo era tornar a análise mais clara e menos enviesada, foi possível observar que as rodovias BR-116 e BR-101 são aquelas com o maior número de acidentes. Tal resultado não é necessariamente elucidativo, tendo em vista que essas rodovias são extremamente importantes para o país e altamente usadas, com ambas indo do nordeste do país ao sul. Ademais, uma informação que se mostra significante é o sentido da via: a maior parte dos acidentes ocorre no sentido crescente das estradas.\n",
    "\n",
    "Ao observar o gráfico em que é mostrada a distribuição de acidentes causados pela chuva ao longo do país, foi levantada uma hipótese de que certos estados podem representar regiões de maior risco geo-hidrológico. Dessa maneira, foi feita uma pesquisa para determinar se havia qualquer estudo que mensurava esse critério, e as previsões realizadas pelo Cemaden se mostraram como um possível caminho nessa direção.\n",
    "\n",
    "O órgão federal apresenta, diariamente, previsões de quais regiões do Brasil apresentam um risco geral causado pela chuva, que são dados em quatro níveis: risco\n",
    "baixo, moderado, alto e muito alto. Com esses dados, poder-se-ia realizar comparações de onde os acidentes aconteceram com as regiões de risco previstas para os dias em que eles ocorreram. Entretanto, esses mapas apresentaram-se como um grande obstáculo, pois não há como transformá-los de maneira simples e automatizada em dados georreferenciados, para assim analisá-los utilizando alguma ferramenta.\n",
    "\n",
    "Sendo assim, foi necessário realizar, manualmente, a confecção de polígonos no Google Earth baseados nas regiões de risco. Isso foi feito para os três meses mais chuvosos do ano, janeiro, fevereiro e março, e as análises não obtiveram o resultado esperado. Boa parte dos acidentes causados pela chuva não aconteceram dentro das regiões de risco previstas, e por se tratar de um processo muito laborioso para ser feito, a análise não pôde ser estendida para o resto do ano analisado.\n",
    "\n",
    "A etapa seguinte, então, é analisar estatisticamente as hipóteses levantadas a partir das análises exploratórias, para comprová-las (ou não) matematicamente. O primeiro passo é determinar se os dados possuem distribuições normais, o que guiaria a análise. Ao provar que a maior parte dos atributos não possui uma distribuição normal, a decisão mais coerente é seguir com os testes não paramétricos, que não fazem suposições sobre a distribuição das variáveis.\n",
    "\n",
    "A ideia dos testes é comparar diretamente se atributos como precipitação e umidade do ar possuem diferenças estatisticamente significantes quando são comparados os acidentes causados e os não causados pela chuva. Assim, há evidências para rejeitar a hipótese de que, para a maior parte dos atributos observados, não há uma diferença significativa entre eles. Isso comprova que a chuva tem interferência significativa nas condições do acidente.\n",
    "A próxima etapa foi realizar a modelagem do problema utilizando como paradigma os modelos não-supervisionados, tendo em vista que os dados não apresentam uma variável-rótulo, ou seja, um atributo que se deseja prever o resultado.\n",
    "\n",
    "A primeira técnica utilizada foi a análise de componentes principais, que visa reduzir a dimensionalidade do problema ao reduzir o número de variáveis a serem utilizadas, a partir de uma combinação linear das variáveis originais. Visto que boa parte dos atributos utilizados na análise são correlacionados, o uso dessa técnica é recomendado.\n",
    "Sendo assim, foi possível reduzir a dimensão do conjunto de dados de seis variáveis originais para apenas três, além de permitir a visualização de algumas variáveis em função das componentes principais encontradas.\n",
    "\n",
    "Seguindo adiante, foi realizada uma análise de agrupamento não hierárquico, utilizando como técnica o K-Means, através do qual foi possível determinar, com o uso de diferentes métricas de avaliação, que o número ideal de grupos para os dados é igual a sete.\n",
    "\n",
    "Ainda nos modelos não-supervisionados, foi aplicada a análise de correspondência, que é uma técnica estatística que visa analisar a correlação entre variáveis categóricas e realizar visualizações de dados. Dessa maneira, obtiveram-se três grupos de variáveis: tipo e causa do acidente; dia e fase do dia, condição meteorológica e sentido da vida; e classificação do acidente e tipo da via.\n",
    "\n",
    "A partir disso, então, foram aplicados testes de hipótese para determinar estatisticamente se esses grupos eram significativos ou não, o que foi confirmado.\n",
    "\n",
    "Para finalizar esse estudo, a técnica de redes bayesianas foi aplicada, com o intuito de encontrar relações de dependência entre as variáveis, o que não obteve muito sucesso. Apenas dois grupos são relacionados, o primeiro que diz respeito as características da via em que o acidente ocorreu e o segundo que descreve a relação entre o tipo de vítima do acidente e como o acidente é classificado.\n",
    "\n",
    "Por fim, uma tentativa de modelagem supervisionada foi testada, utilizando como técnica a regressão logística. O objetivo era tentar prever o número de feridos em um acidente com base em suas características. Entretanto, como esperado, o modelo não teve bons resultados, apresentando valores baixos para sua métrica de avaliação.\n",
    "\n",
    "Dessa maneira, conclui-se então que apesar de fatores climáticos possuírem, sim, interferência em um acidente, como por exemplo tornando-o mais perigoso, não foi possível detectar se esse é um fator crucial para as ocorrências, tampouco foi possível encontrar atributos determinantes na ocorrência das observações, ou uma forma de predizer se o acidente teria mais ou menos feridos. Isso demonstra, então, que os atributos disponíveis são suficientes para retirar algumas conclusões mais superficiais sobre os acidentes, como por exemplo o horário em que eles são mais suscetíveis a acontecer ou os estados com mais acidentes causados pela chuva, mas que eles não são o bastante para realizar análises mais profundas."
   ]
  },
  {
   "cell_type": "markdown",
   "metadata": {},
   "source": [
    "----\n",
    "\n",
    "## 9. Referências\n",
    "\n",
    "- IPEA. Estudo aponta aumento de 13,5% em mortes no trânsito. [S. l.], 2 ago. 2023. Disponível em: https://www.ipea.gov.br/portal/categorias/45-todas-as-noticias/noticias/13899-estudo-aponta-aumento-de-13-5-em-mortes-no-transito#:~:text=Entre%202010%20e%202019%2C%20o,meta%20global%20estipulada%20pela%20ONU. Acesso em: 11 dez. 2023.\n",
    "\n",
    "- AGÊNCIA BRASIL. Desastres naturais atingiram 93% dos municípios nos últimos 10 anos. Rio de Janeiro, 27 jul. 2023. Disponível em: https://agenciabrasil.ebc.com.br/geral/noticia/2023-07/desastres-naturais-atingiram-93-dos-municipios-nos-ultimos-10-anos. Acesso em: 11 dez. 2023.\n",
    "\n",
    "- MORI, Letícia. Mortes por chuvas em 2022 já superam ano passado inteiro. São Paulo: BBC News, 1 jun. 2022. Disponível em: https://www.bbc.com/portuguese/brasil-61651974. Acesso em: 11 dez. 2023. \n",
    "\n",
    "- UNITED STATES GOVERNMENT. USGS. Rainfall calculator, metric units How much water falls during a storm? storm?. [S. l.], 20--. Disponível em: https://water.usgs.gov/edu/activity-howmuchrain-metric.html#:~:text=Slight%20rain%3A%20Less%20than%200.5,than%208%20mm%20per%20hour. Acesso em: 28 set. 2023. \n",
    "\n",
    "- GREENLANE. O que é um céu nublado?. [S. l.], 20 mar. 2020. Disponível em: https://www.greelane.com/pt/ci%C3%AAncia-tecnologia-matem%C3%A1tica/ci%C3%AAncia/overcast-sky-definition-3444114/. Acesso em: 28 set. 2023. \n",
    "\n",
    "- MINISTÉRIO DA CIÊNCIA, TECNOLOGIA E INOVAÇÕES (Brasil). Cemaden. Riscos geo-hidrologicos. [S. l.], 25 maio 2021. Disponível em: https://www.gov.br/cemaden/pt-br/assuntos/riscos-geo-hidrologicos. Acesso em: 21 set. 2023.\n",
    "\n",
    "- Stuart Russell; Peter Norvig. Artificial Intelligence: A Modern Approach, Pearson\n",
    "Education Limited; 4ª edition, 2021.\n",
    "\n",
    "- Katti Faceli, Ana Carolina Lorena, João Gama, Thiago Agostinho de Almeida, André C.P.L.F. de Carvalho, Inteligência Artificial - Uma Abordagem de Aprendizado de Máquina, LTC; 2ª edição, 2021.\n",
    "\n",
    "- Mohammed J. Zaki, Wagner Meira, Jr., Data Mining and Machine Learning:\n",
    "Fundamental Concepts and Algorithms, 2nd Edition, Cambridge University Press,\n",
    "March 2020. ISBN: 978-1108473989.\n",
    "\n"
   ]
  }
 ],
 "metadata": {
  "language_info": {
   "name": "python"
  }
 },
 "nbformat": 4,
 "nbformat_minor": 2
}
