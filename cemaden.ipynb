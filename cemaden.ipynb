{
 "cells": [
  {
   "cell_type": "markdown",
   "metadata": {},
   "source": [
    "# Análise do Risco Geo-Hidrológico e Acidentes\n",
    "\n",
    "https://www.gov.br/cemaden/pt-br/assuntos/riscos-geo-hidrologicos"
   ]
  }
 ],
 "metadata": {
  "language_info": {
   "name": "python"
  }
 },
 "nbformat": 4,
 "nbformat_minor": 2
}
