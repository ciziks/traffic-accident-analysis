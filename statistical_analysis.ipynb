{
 "cells": [
  {
   "cell_type": "markdown",
   "id": "3dbb7d19",
   "metadata": {},
   "source": [
    "# Análise Estatística dos Acidentes de Trânsito\n",
    "\n",
    "## Projeto da disciplina **SSC0957 - Práticas em Ciência de Dados II**\n",
    "\n",
    "- Alexandre Eduardo de Souza Jesus - alexandre_souza@usp.br - 12559506\n",
    "\n",
    "- Lucas Ivars Cadima Ciziks - luciziks@usp.br - 125599472\n",
    "\n",
    "- Gustavo Silva de Oliveira - guspfc03@usp.br - 12567231\n",
    "\n",
    "<img src=\"pictures.gif\" style=\"width: 200px;\"/>\n",
    "\n",
    "---\n"
   ]
  },
  {
   "cell_type": "markdown",
   "id": "0f2d507b",
   "metadata": {},
   "source": [
    "## 6. Análise Estatística dos Dados"
   ]
  },
  {
   "cell_type": "code",
   "execution_count": 2,
   "id": "4714e248",
   "metadata": {},
   "outputs": [],
   "source": [
    "import pandas as pd\n",
    "import numpy as np\n",
    "import matplotlib.pyplot as plt\n",
    "import seaborn as sns\n",
    "\n",
    "from scipy import stats"
   ]
  },
  {
   "cell_type": "code",
   "execution_count": 3,
   "id": "1fc58ea1",
   "metadata": {},
   "outputs": [],
   "source": [
    "prf_rain_data = pd.read_csv(\"processed_data/prf_rain_data.csv\", index_col=0)\n",
    "prf_rain_data.columns\n",
    "prf_rain_data = prf_rain_data[['rain','temperature_2m','apparent_temperature','relativehumidity_2m','cloudcover','windspeed_10m']]"
   ]
  },
  {
   "cell_type": "code",
   "execution_count": 4,
   "id": "5c332d68",
   "metadata": {},
   "outputs": [],
   "source": [
    "prf_not_rain_data = pd.read_csv(\"processed_data/prf_not_rain_data.csv\", index_col=0)\n",
    "prf_not_rain_data = prf_not_rain_data[['rain','temperature_2m','apparent_temperature','relativehumidity_2m','cloudcover','windspeed_10m']]"
   ]
  },
  {
   "cell_type": "code",
   "execution_count": 5,
   "id": "c3da31de",
   "metadata": {},
   "outputs": [
    {
     "name": "stdout",
     "output_type": "stream",
     "text": [
      "rain: os dados não são normais\n",
      "temperature_2m: os dados são normais\n",
      "apparent_temperature: os dados não são normais\n",
      "relativehumidity_2m: os dados não são normais\n",
      "cloudcover: os dados não são normais\n",
      "windspeed_10m: os dados não são normais\n"
     ]
    }
   ],
   "source": [
    "# testando normalidade das variáveis com o teste shapiro-wilk\n",
    "# H0 (hipotese nula) - os dados seguem uma distribuição normal\n",
    "\n",
    "alpha = 0.05\n",
    "\n",
    "for column in prf_rain_data.columns:\n",
    "    statistic, p_value = stats.shapiro(prf_rain_data[column])\n",
    "    if p_value > alpha:\n",
    "        print(f\"{column}: os dados são normais\")\n",
    "    else:\n",
    "        print(f\"{column}: os dados não são normais\")"
   ]
  },
  {
   "cell_type": "code",
   "execution_count": 6,
   "id": "45c990a6",
   "metadata": {
    "scrolled": true
   },
   "outputs": [
    {
     "name": "stdout",
     "output_type": "stream",
     "text": [
      "rain: os dados não são normais\n",
      "temperature_2m: os dados não são normais\n",
      "apparent_temperature: os dados não são normais\n",
      "relativehumidity_2m: os dados não são normais\n",
      "cloudcover: os dados não são normais\n",
      "windspeed_10m: os dados não são normais\n"
     ]
    }
   ],
   "source": [
    "alpha = 0.05\n",
    "\n",
    "for column in prf_not_rain_data.columns:\n",
    "    statistic, p_value = stats.shapiro(prf_not_rain_data[column])\n",
    "    if p_value > alpha:\n",
    "        print(f\"{column}: os dados são normais\")\n",
    "    else:\n",
    "        print(f\"{column}: os dados não são normais\")"
   ]
  },
  {
   "cell_type": "code",
   "execution_count": 7,
   "id": "08b97585",
   "metadata": {},
   "outputs": [
    {
     "name": "stdout",
     "output_type": "stream",
     "text": [
      "há diferença significativa entre as variáveis (1.2329597100927212e-132)\n"
     ]
    }
   ],
   "source": [
    "# como a normalidade foi rejeitada, utiliza-se o teste não-paramétrico de Mann-Whitney para verificar \n",
    "# a diferença entre os grupos\n",
    "\n",
    "alpha = 0.05\n",
    "\n",
    "statistic, p_value = stats.mannwhitneyu(prf_rain_data['rain'], prf_not_rain_data['rain'])\n",
    "\n",
    "if p_value > alpha:\n",
    "    print(f\"não há diferença significativa entre as variáveis ({p_value})\")\n",
    "else:\n",
    "    print(f\"há diferença significativa entre as variáveis ({p_value})\")"
   ]
  },
  {
   "cell_type": "code",
   "execution_count": 8,
   "id": "3b177a92",
   "metadata": {},
   "outputs": [
    {
     "name": "stdout",
     "output_type": "stream",
     "text": [
      "há diferença significativa entre as variáveis (7.172223211328207e-07)\n"
     ]
    }
   ],
   "source": [
    "statistic, p_value = stats.mannwhitneyu(prf_rain_data['temperature_2m'], prf_not_rain_data['temperature_2m'])\n",
    "\n",
    "if p_value > alpha:\n",
    "    print(f\"não há diferença significativa entre as variáveis ({p_value})\")\n",
    "else:\n",
    "    print(f\"há diferença significativa entre as variáveis ({p_value})\")"
   ]
  },
  {
   "cell_type": "code",
   "execution_count": 9,
   "id": "a35334c6",
   "metadata": {
    "scrolled": true
   },
   "outputs": [
    {
     "name": "stdout",
     "output_type": "stream",
     "text": [
      "não há diferença significativa entre as variáveis (0.14641530295557445)\n"
     ]
    }
   ],
   "source": [
    "statistic, p_value = stats.mannwhitneyu(prf_rain_data['apparent_temperature'], prf_not_rain_data['apparent_temperature'])\n",
    "\n",
    "if p_value > alpha:\n",
    "    print(f\"não há diferença significativa entre as variáveis ({p_value})\")\n",
    "else:\n",
    "    print(f\"há diferença significativa entre as variáveis ({p_value})\")"
   ]
  },
  {
   "cell_type": "code",
   "execution_count": 10,
   "id": "b2d285c0",
   "metadata": {},
   "outputs": [
    {
     "name": "stdout",
     "output_type": "stream",
     "text": [
      "há diferença significativa entre as variáveis (1.2481311341241215e-56)\n"
     ]
    }
   ],
   "source": [
    "statistic, p_value = stats.mannwhitneyu(prf_rain_data['relativehumidity_2m'], prf_not_rain_data['relativehumidity_2m'])\n",
    "\n",
    "if p_value > alpha:\n",
    "    print(f\"não há diferença significativa entre as variáveis ({p_value})\")\n",
    "else:\n",
    "    print(f\"há diferença significativa entre as variáveis ({p_value})\")"
   ]
  },
  {
   "cell_type": "code",
   "execution_count": 11,
   "id": "a628fe0c",
   "metadata": {
    "scrolled": true
   },
   "outputs": [
    {
     "name": "stdout",
     "output_type": "stream",
     "text": [
      "há diferença significativa entre as variáveis (3.963067035891679e-129)\n"
     ]
    }
   ],
   "source": [
    "statistic, p_value = stats.mannwhitneyu(prf_rain_data['cloudcover'], prf_not_rain_data['cloudcover'])\n",
    "\n",
    "if p_value > alpha:\n",
    "    print(f\"não há diferença significativa entre as variáveis ({p_value})\")\n",
    "else:\n",
    "    print(f\"há diferença significativa entre as variáveis ({p_value})\")"
   ]
  },
  {
   "cell_type": "code",
   "execution_count": 12,
   "id": "9008c751",
   "metadata": {},
   "outputs": [
    {
     "name": "stdout",
     "output_type": "stream",
     "text": [
      "há diferença significativa entre as variáveis (0.000606321895064651)\n"
     ]
    }
   ],
   "source": [
    "statistic, p_value = stats.mannwhitneyu(prf_rain_data['windspeed_10m'], prf_not_rain_data['windspeed_10m'])\n",
    "\n",
    "if p_value > alpha:\n",
    "    print(f\"não há diferença significativa entre as variáveis ({p_value})\")\n",
    "else:\n",
    "    print(f\"há diferença significativa entre as variáveis ({p_value})\")"
   ]
  },
  {
   "cell_type": "code",
   "execution_count": 13,
   "id": "b5aed403",
   "metadata": {},
   "outputs": [
    {
     "data": {
      "text/html": [
       "<div>\n",
       "<style scoped>\n",
       "    .dataframe tbody tr th:only-of-type {\n",
       "        vertical-align: middle;\n",
       "    }\n",
       "\n",
       "    .dataframe tbody tr th {\n",
       "        vertical-align: top;\n",
       "    }\n",
       "\n",
       "    .dataframe thead th {\n",
       "        text-align: right;\n",
       "    }\n",
       "</style>\n",
       "<table border=\"1\" class=\"dataframe\">\n",
       "  <thead>\n",
       "    <tr style=\"text-align: right;\">\n",
       "      <th></th>\n",
       "      <th>rain</th>\n",
       "      <th>temperature_2m</th>\n",
       "      <th>apparent_temperature</th>\n",
       "      <th>relativehumidity_2m</th>\n",
       "      <th>cloudcover</th>\n",
       "      <th>windspeed_10m</th>\n",
       "    </tr>\n",
       "  </thead>\n",
       "  <tbody>\n",
       "    <tr>\n",
       "      <th>count</th>\n",
       "      <td>1135.000000</td>\n",
       "      <td>1135.000000</td>\n",
       "      <td>1135.000000</td>\n",
       "      <td>1135.000000</td>\n",
       "      <td>1135.000000</td>\n",
       "      <td>1135.000000</td>\n",
       "    </tr>\n",
       "    <tr>\n",
       "      <th>mean</th>\n",
       "      <td>0.904934</td>\n",
       "      <td>21.723612</td>\n",
       "      <td>23.884846</td>\n",
       "      <td>84.630837</td>\n",
       "      <td>81.125110</td>\n",
       "      <td>8.910573</td>\n",
       "    </tr>\n",
       "    <tr>\n",
       "      <th>std</th>\n",
       "      <td>1.523465</td>\n",
       "      <td>4.237671</td>\n",
       "      <td>5.584589</td>\n",
       "      <td>12.947197</td>\n",
       "      <td>24.388504</td>\n",
       "      <td>5.102003</td>\n",
       "    </tr>\n",
       "    <tr>\n",
       "      <th>min</th>\n",
       "      <td>0.000000</td>\n",
       "      <td>9.100000</td>\n",
       "      <td>5.800000</td>\n",
       "      <td>35.000000</td>\n",
       "      <td>2.000000</td>\n",
       "      <td>0.000000</td>\n",
       "    </tr>\n",
       "    <tr>\n",
       "      <th>25%</th>\n",
       "      <td>0.100000</td>\n",
       "      <td>18.950000</td>\n",
       "      <td>20.400000</td>\n",
       "      <td>78.000000</td>\n",
       "      <td>66.000000</td>\n",
       "      <td>5.200000</td>\n",
       "    </tr>\n",
       "    <tr>\n",
       "      <th>50%</th>\n",
       "      <td>0.300000</td>\n",
       "      <td>21.900000</td>\n",
       "      <td>24.400000</td>\n",
       "      <td>88.000000</td>\n",
       "      <td>95.000000</td>\n",
       "      <td>7.900000</td>\n",
       "    </tr>\n",
       "    <tr>\n",
       "      <th>75%</th>\n",
       "      <td>1.100000</td>\n",
       "      <td>24.500000</td>\n",
       "      <td>27.700000</td>\n",
       "      <td>94.000000</td>\n",
       "      <td>100.000000</td>\n",
       "      <td>11.550000</td>\n",
       "    </tr>\n",
       "    <tr>\n",
       "      <th>max</th>\n",
       "      <td>18.300000</td>\n",
       "      <td>34.800000</td>\n",
       "      <td>39.000000</td>\n",
       "      <td>100.000000</td>\n",
       "      <td>100.000000</td>\n",
       "      <td>45.500000</td>\n",
       "    </tr>\n",
       "  </tbody>\n",
       "</table>\n",
       "</div>"
      ],
      "text/plain": [
       "              rain  temperature_2m  apparent_temperature  relativehumidity_2m  \\\n",
       "count  1135.000000     1135.000000           1135.000000          1135.000000   \n",
       "mean      0.904934       21.723612             23.884846            84.630837   \n",
       "std       1.523465        4.237671              5.584589            12.947197   \n",
       "min       0.000000        9.100000              5.800000            35.000000   \n",
       "25%       0.100000       18.950000             20.400000            78.000000   \n",
       "50%       0.300000       21.900000             24.400000            88.000000   \n",
       "75%       1.100000       24.500000             27.700000            94.000000   \n",
       "max      18.300000       34.800000             39.000000           100.000000   \n",
       "\n",
       "        cloudcover  windspeed_10m  \n",
       "count  1135.000000    1135.000000  \n",
       "mean     81.125110       8.910573  \n",
       "std      24.388504       5.102003  \n",
       "min       2.000000       0.000000  \n",
       "25%      66.000000       5.200000  \n",
       "50%      95.000000       7.900000  \n",
       "75%     100.000000      11.550000  \n",
       "max     100.000000      45.500000  "
      ]
     },
     "execution_count": 13,
     "metadata": {},
     "output_type": "execute_result"
    }
   ],
   "source": [
    "prf_rain_data.describe()"
   ]
  },
  {
   "cell_type": "code",
   "execution_count": 14,
   "id": "e8b5d603",
   "metadata": {},
   "outputs": [
    {
     "data": {
      "text/html": [
       "<div>\n",
       "<style scoped>\n",
       "    .dataframe tbody tr th:only-of-type {\n",
       "        vertical-align: middle;\n",
       "    }\n",
       "\n",
       "    .dataframe tbody tr th {\n",
       "        vertical-align: top;\n",
       "    }\n",
       "\n",
       "    .dataframe thead th {\n",
       "        text-align: right;\n",
       "    }\n",
       "</style>\n",
       "<table border=\"1\" class=\"dataframe\">\n",
       "  <thead>\n",
       "    <tr style=\"text-align: right;\">\n",
       "      <th></th>\n",
       "      <th>rain</th>\n",
       "      <th>temperature_2m</th>\n",
       "      <th>apparent_temperature</th>\n",
       "      <th>relativehumidity_2m</th>\n",
       "      <th>cloudcover</th>\n",
       "      <th>windspeed_10m</th>\n",
       "    </tr>\n",
       "  </thead>\n",
       "  <tbody>\n",
       "    <tr>\n",
       "      <th>count</th>\n",
       "      <td>1135.000000</td>\n",
       "      <td>1135.000000</td>\n",
       "      <td>1135.000000</td>\n",
       "      <td>1135.000000</td>\n",
       "      <td>1135.000000</td>\n",
       "      <td>1135.000000</td>\n",
       "    </tr>\n",
       "    <tr>\n",
       "      <th>mean</th>\n",
       "      <td>0.192952</td>\n",
       "      <td>22.547137</td>\n",
       "      <td>24.015242</td>\n",
       "      <td>73.256388</td>\n",
       "      <td>45.554185</td>\n",
       "      <td>9.527489</td>\n",
       "    </tr>\n",
       "    <tr>\n",
       "      <th>std</th>\n",
       "      <td>0.687469</td>\n",
       "      <td>5.120949</td>\n",
       "      <td>6.489959</td>\n",
       "      <td>18.243512</td>\n",
       "      <td>34.270380</td>\n",
       "      <td>4.987270</td>\n",
       "    </tr>\n",
       "    <tr>\n",
       "      <th>min</th>\n",
       "      <td>0.000000</td>\n",
       "      <td>2.400000</td>\n",
       "      <td>-1.300000</td>\n",
       "      <td>17.000000</td>\n",
       "      <td>0.000000</td>\n",
       "      <td>0.400000</td>\n",
       "    </tr>\n",
       "    <tr>\n",
       "      <th>25%</th>\n",
       "      <td>0.000000</td>\n",
       "      <td>19.300000</td>\n",
       "      <td>19.800000</td>\n",
       "      <td>61.000000</td>\n",
       "      <td>15.000000</td>\n",
       "      <td>5.800000</td>\n",
       "    </tr>\n",
       "    <tr>\n",
       "      <th>50%</th>\n",
       "      <td>0.000000</td>\n",
       "      <td>22.900000</td>\n",
       "      <td>24.700000</td>\n",
       "      <td>76.000000</td>\n",
       "      <td>40.000000</td>\n",
       "      <td>8.600000</td>\n",
       "    </tr>\n",
       "    <tr>\n",
       "      <th>75%</th>\n",
       "      <td>0.100000</td>\n",
       "      <td>26.000000</td>\n",
       "      <td>28.800000</td>\n",
       "      <td>88.000000</td>\n",
       "      <td>75.000000</td>\n",
       "      <td>12.600000</td>\n",
       "    </tr>\n",
       "    <tr>\n",
       "      <th>max</th>\n",
       "      <td>9.000000</td>\n",
       "      <td>35.600000</td>\n",
       "      <td>39.900000</td>\n",
       "      <td>100.000000</td>\n",
       "      <td>100.000000</td>\n",
       "      <td>35.600000</td>\n",
       "    </tr>\n",
       "  </tbody>\n",
       "</table>\n",
       "</div>"
      ],
      "text/plain": [
       "              rain  temperature_2m  apparent_temperature  relativehumidity_2m  \\\n",
       "count  1135.000000     1135.000000           1135.000000          1135.000000   \n",
       "mean      0.192952       22.547137             24.015242            73.256388   \n",
       "std       0.687469        5.120949              6.489959            18.243512   \n",
       "min       0.000000        2.400000             -1.300000            17.000000   \n",
       "25%       0.000000       19.300000             19.800000            61.000000   \n",
       "50%       0.000000       22.900000             24.700000            76.000000   \n",
       "75%       0.100000       26.000000             28.800000            88.000000   \n",
       "max       9.000000       35.600000             39.900000           100.000000   \n",
       "\n",
       "        cloudcover  windspeed_10m  \n",
       "count  1135.000000    1135.000000  \n",
       "mean     45.554185       9.527489  \n",
       "std      34.270380       4.987270  \n",
       "min       0.000000       0.400000  \n",
       "25%      15.000000       5.800000  \n",
       "50%      40.000000       8.600000  \n",
       "75%      75.000000      12.600000  \n",
       "max     100.000000      35.600000  "
      ]
     },
     "execution_count": 14,
     "metadata": {},
     "output_type": "execute_result"
    }
   ],
   "source": [
    "prf_not_rain_data.describe()"
   ]
  }
 ],
 "metadata": {
  "kernelspec": {
   "display_name": "Python 3 (ipykernel)",
   "language": "python",
   "name": "python3"
  },
  "language_info": {
   "codemirror_mode": {
    "name": "ipython",
    "version": 3
   },
   "file_extension": ".py",
   "mimetype": "text/x-python",
   "name": "python",
   "nbconvert_exporter": "python",
   "pygments_lexer": "ipython3",
   "version": "3.11.3"
  }
 },
 "nbformat": 4,
 "nbformat_minor": 5
}
