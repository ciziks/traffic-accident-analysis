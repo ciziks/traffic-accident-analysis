{
 "cells": [
  {
   "cell_type": "markdown",
   "metadata": {},
   "source": [
    "# Análise Estatística dos Acidentes de Trânsito\n",
    "\n",
    "## Projeto da disciplina **SSC0957 - Práticas em Ciência de Dados II**\n",
    "\n",
    "- Alexandre Eduardo de Souza Jesus - alexandre_souza@usp.br - 12559506\n",
    "\n",
    "- Lucas Ivars Cadima Ciziks - luciziks@usp.br - 125599472\n",
    "\n",
    "- Gustavo Silva de Oliveira - guspfc03@usp.br - 12567231\n",
    "\n",
    "<img src=\"pictures.gif\" style=\"width: 200px;\"/>\n",
    "\n",
    "---\n"
   ]
  },
  {
   "cell_type": "markdown",
   "metadata": {},
   "source": [
    "## 6. Análise Estatística dos Dados"
   ]
  },
  {
   "cell_type": "code",
   "execution_count": null,
   "metadata": {},
   "outputs": [],
   "source": []
  }
 ],
 "metadata": {
  "language_info": {
   "name": "python"
  }
 },
 "nbformat": 4,
 "nbformat_minor": 2
}
